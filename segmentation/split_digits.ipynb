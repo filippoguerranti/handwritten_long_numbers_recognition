{
 "metadata": {
  "language_info": {
   "codemirror_mode": {
    "name": "ipython",
    "version": 3
   },
   "file_extension": ".py",
   "mimetype": "text/x-python",
   "name": "python",
   "nbconvert_exporter": "python",
   "pygments_lexer": "ipython3",
   "version": "3.8.5-final"
  },
  "orig_nbformat": 2,
  "kernelspec": {
   "name": "python38564bit34d77d8397b04cd292265008b72a8948",
   "display_name": "Python 3.8.5 64-bit",
   "language": "python"
  }
 },
 "nbformat": 4,
 "nbformat_minor": 2,
 "cells": [
  {
   "source": [
    "# Split digits\n",
    "\n",
    "The goal is to split the input image into separated digits that will be then used as input for the network."
   ],
   "cell_type": "markdown",
   "metadata": {}
  },
  {
   "cell_type": "code",
   "execution_count": 1,
   "metadata": {},
   "outputs": [],
   "source": [
    "import Segmentation as seg\n",
    "from PIL import Image, ImageDraw, ImageColor, ImageEnhance, ImageFilter"
   ]
  },
  {
   "cell_type": "code",
   "execution_count": 49,
   "metadata": {},
   "outputs": [
    {
     "output_type": "stream",
     "name": "stdout",
     "text": [
      "Building graph...\n",
      "Graph built in 0.583s.\n",
      "\n",
      "Segmenting...\n",
      "Segmentation done in 0.864s.\n",
      "\n",
      "Removing componentes having size less than 100...\n",
      "Removed components in 0.292s.\n",
      "\n",
      "Defining regions...\n",
      "Regions defined in 0.0326s.\n",
      "\n",
      "Generating image...\n",
      "Image generated in 0.112s.\n",
      "\n",
      "Searching boundaries...\n",
      "Boundaries found in 0.585s.\n",
      "\n",
      "Drawing boxes...\n",
      "Boxes drawn in 8.51e-05s.\n",
      "\n"
     ]
    }
   ],
   "source": [
    "image_path = \"img-20201229-22648.png\"\n",
    "original_img = Image.open(image_path)\n",
    "\n",
    "segmentation = seg.GraphBasedSegmentation(image_path)\n",
    "segmentation.segment(k=4500, min_size=100, preprocessing=True, contrast=1.5, gaussian_blur=2.3)\n",
    "segmentation.generate_image()\n",
    "segmentation.draw_boxes()"
   ]
  },
  {
   "cell_type": "code",
   "execution_count": 50,
   "metadata": {},
   "outputs": [
    {
     "output_type": "execute_result",
     "data": {
      "text/plain": [
       "<PIL.Image.Image image mode=RGB size=300x225 at 0x7F347D69D7C0>"
      ],
      "image/png": "[encoded data removed]"
     },
     "metadata": {},
     "execution_count": 50
    }
   ],
   "source": [
    "segmentation.boxed_img"
   ]
  },
  {
   "cell_type": "code",
   "execution_count": 51,
   "metadata": {},
   "outputs": [],
   "source": [
    "def _regions_area(boundaries):\n",
    "    \"\"\" Compute the area of each region.\n",
    "\n",
    "    Returns:\n",
    "        areas (dict of ints): dictionary containing, for each region, its area\n",
    "    \"\"\"\n",
    "    areas = {}\n",
    "    for region, extremes in boundaries.items():\n",
    "        A = extremes['max_row'] - extremes['min_row']\n",
    "        B = extremes['max_col'] - extremes['min_col']\n",
    "        areas[region] = A * B\n",
    "    return areas"
   ]
  },
  {
   "cell_type": "code",
   "execution_count": 52,
   "metadata": {},
   "outputs": [
    {
     "output_type": "execute_result",
     "data": {
      "text/plain": [
       "{0: {'min_row': 76, 'max_row': 140, 'min_col': 222, 'max_col': 268},\n",
       " 1: {'min_row': 70, 'max_row': 142, 'min_col': 41, 'max_col': 84},\n",
       " 2: {'min_row': 77, 'max_row': 150, 'min_col': 126, 'max_col': 186},\n",
       " 3: None}"
      ]
     },
     "metadata": {},
     "execution_count": 52
    }
   ],
   "source": [
    "boundaries = segmentation.boundaries.copy()\n",
    "\n",
    "areas = _regions_area(segmentation.boundaries)\n",
    "\n",
    "boundaries[max(areas, key=lambda k: areas[k])] = None\n",
    "\n",
    "segm = segmentation.preprocessed_arr.copy()\n",
    "\n",
    "boundaries"
   ]
  },
  {
   "cell_type": "code",
   "execution_count": 53,
   "metadata": {},
   "outputs": [],
   "source": [
    "digits = {}\n",
    "counter = 0\n",
    "for extremes in boundaries.values():\n",
    "    # print(region, extremes)\n",
    "    if type(extremes) == type(None):\n",
    "        continue\n",
    "    a = extremes['min_row']\n",
    "    b = extremes['max_row'] + 1\n",
    "    c = extremes['min_col']\n",
    "    d = extremes['max_col'] + 1\n",
    "    digits[counter] = segm[a:b,c:d].copy()\n",
    "    counter += 1"
   ]
  },
  {
   "cell_type": "code",
   "execution_count": 54,
   "metadata": {},
   "outputs": [
    {
     "output_type": "execute_result",
     "data": {
      "text/plain": [
       "<PIL.Image.Image image mode=L size=28x28 at 0x7F347D679820>"
      ],
      "image/png": "[encoded data removed]"
     },
     "metadata": {},
     "execution_count": 54
    }
   ],
   "source": [
    "q = digits[2].copy()\n",
    "im = Image.fromarray(q)\n",
    "im = im.resize((28, 28), Image.ANTIALIAS)\n",
    "im"
   ]
  }
 ]
}