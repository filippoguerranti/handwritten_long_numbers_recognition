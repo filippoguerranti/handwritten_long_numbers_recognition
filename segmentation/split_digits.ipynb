{
 "metadata": {
  "language_info": {
   "codemirror_mode": {
    "name": "ipython",
    "version": 3
   },
   "file_extension": ".py",
   "mimetype": "text/x-python",
   "name": "python",
   "nbconvert_exporter": "python",
   "pygments_lexer": "ipython3",
   "version": "3.8.5-final"
  },
  "orig_nbformat": 2,
  "kernelspec": {
   "name": "python38564bit34d77d8397b04cd292265008b72a8948",
   "display_name": "Python 3.8.5 64-bit",
   "language": "python"
  }
 },
 "nbformat": 4,
 "nbformat_minor": 2,
 "cells": [
  {
   "source": [
    "# Split digits\n",
    "\n",
    "The goal is to split the input image into separated digits that will be then used as input for the network."
   ],
   "cell_type": "markdown",
   "metadata": {}
  },
  {
   "cell_type": "code",
   "execution_count": 1,
   "metadata": {},
   "outputs": [],
   "source": [
    "import Segmentation as seg\n",
    "from PIL import Image, ImageDraw, ImageColor, ImageEnhance, ImageFilter"
   ]
  },
  {
   "cell_type": "code",
   "execution_count": 2,
   "metadata": {},
   "outputs": [
    {
     "output_type": "stream",
     "name": "stdout",
     "text": [
      "Building graph...\n",
      "Graph built in 0.895s.\n",
      "\n",
      "Segmenting...\n",
      "Segmentation done in 1.29s.\n",
      "\n",
      "Removing componentes having size less than 100...\n",
      "Removed components in 0.388s.\n",
      "\n",
      "Defining regions...\n",
      "Regions defined in 0.0368s.\n",
      "\n",
      "Generating image...\n",
      "Image generated in 0.151s.\n",
      "\n",
      "Searching boundaries...\n",
      "Boundaries found in 0.865s.\n",
      "\n",
      "Drawing boxes...\n",
      "Boxes drawn in 0.000629s.\n",
      "\n"
     ]
    }
   ],
   "source": [
    "straight = \"img-202114-215724.png\"\n",
    "diagonal = \"img-202114-215659.png\"\n",
    "\n",
    "image_path = diagonal\n",
    "\n",
    "original_img = Image.open(image_path)\n",
    "\n",
    "segmentation = seg.GraphBasedSegmentation(image_path)\n",
    "segmentation.segment(\n",
    "                k=4500\n",
    "                , min_size=100\n",
    "                , preprocessing=True\n",
    "                # , contrast=1.2\n",
    "                , gaussian_blur=2.3)\n",
    "segmentation.generate_image()\n",
    "segmentation.draw_boxes()"
   ]
  },
  {
   "cell_type": "code",
   "execution_count": 3,
   "metadata": {},
   "outputs": [
    {
     "output_type": "execute_result",
     "data": {
      "text/plain": [
       "<PIL.Image.Image image mode=RGB size=300x225 at 0x7F4EA803D760>"
      ],
      "image/png": "[encoded data removed]"
     },
     "metadata": {},
     "execution_count": 3
    }
   ],
   "source": [
    "segmentation.boxed_img"
   ]
  },
  {
   "cell_type": "code",
   "execution_count": 4,
   "metadata": {},
   "outputs": [],
   "source": [
    "def __regions_area(boundaries):\n",
    "    \"\"\" Compute the area of each region.\n",
    "\n",
    "    Returns:\n",
    "        areas (dict of ints): dictionary containing, for each region, its area\n",
    "    \"\"\"\n",
    "    areas = {}\n",
    "    for region, extremes in boundaries.items():\n",
    "        A = extremes['max_row'] - extremes['min_row']\n",
    "        B = extremes['max_col'] - extremes['min_col']\n",
    "        area = A * B\n",
    "        areas[region] = area\n",
    "    return areas"
   ]
  },
  {
   "cell_type": "code",
   "execution_count": 5,
   "metadata": {},
   "outputs": [
    {
     "output_type": "execute_result",
     "data": {
      "text/plain": [
       "{0: None,\n",
       " 1: {'min_row': 11, 'max_row': 55, 'min_col': 251, 'max_col': 287},\n",
       " 2: {'min_row': 123, 'max_row': 166, 'min_col': 62, 'max_col': 92},\n",
       " 3: {'min_row': 42, 'max_row': 83, 'min_col': 196, 'max_col': 237},\n",
       " 4: {'min_row': 148, 'max_row': 205, 'min_col': 0, 'max_col': 42},\n",
       " 5: {'min_row': 93, 'max_row': 148, 'min_col': 102, 'max_col': 135},\n",
       " 6: {'min_row': 66, 'max_row': 113, 'min_col': 162, 'max_col': 195},\n",
       " 7: None,\n",
       " 8: None}"
      ]
     },
     "metadata": {},
     "execution_count": 5
    }
   ],
   "source": [
    "boundaries = segmentation.boundaries.copy()\n",
    "\n",
    "areas = __regions_area(segmentation.boundaries)\n",
    "\n",
    "# removing background\n",
    "boundaries[max(areas, key=lambda k: areas[k])] = None\n",
    "\n",
    "# removing regions with area equal to zero\n",
    "boundaries.update((k, v) if areas[k] != 0 else (k, None) for k, v in boundaries.items())\n",
    "\n",
    "segm = segmentation.preprocessed_arr.copy()\n",
    "\n",
    "boundaries"
   ]
  },
  {
   "cell_type": "code",
   "execution_count": 6,
   "metadata": {},
   "outputs": [],
   "source": [
    "digits = {}\n",
    "counter = 0\n",
    "for _, extremes in boundaries.items():\n",
    "    if extremes is None:\n",
    "        continue\n",
    "    a = extremes['min_row']\n",
    "    b = extremes['max_row'] + 1\n",
    "    c = extremes['min_col']\n",
    "    d = extremes['max_col'] + 1\n",
    "    digits[counter] = segm[a:b,c:d].copy()\n",
    "    counter += 1"
   ]
  },
  {
   "cell_type": "code",
   "execution_count": 7,
   "metadata": {},
   "outputs": [
    {
     "output_type": "execute_result",
     "data": {
      "text/plain": [
       "<PIL.Image.Image image mode=L size=37x45 at 0x7F4EA8037B50>"
      ],
      "image/png": "[encoded data removed]"
     },
     "metadata": {},
     "execution_count": 7
    }
   ],
   "source": [
    "q = digits[0].copy()\n",
    "im = Image.fromarray(q)\n",
    "im"
   ]
  },
  {
   "cell_type": "code",
   "execution_count": 8,
   "metadata": {},
   "outputs": [],
   "source": [
    "import numpy as np\n",
    "im_arr = np.array(im)\n",
    "\n",
    "# threshold = lambda el: np.uint8(el) if el < 120 else np.uint8(255)\n",
    "# vfunc = np.vectorize(threshold)\n",
    "# im_arr_thresh = vfunc(im_arr)\n",
    "threshold = lambda el, t: np.uint8(el) if el < t else np.uint8(255)\n",
    "vfunc = np.vectorize(threshold)\n",
    "im_arr_thresh = vfunc(im_arr, 50)"
   ]
  },
  {
   "cell_type": "code",
   "execution_count": 9,
   "metadata": {},
   "outputs": [
    {
     "output_type": "execute_result",
     "data": {
      "text/plain": [
       "<PIL.Image.Image image mode=L size=37x45 at 0x7F4E7743D430>"
      ],
      "image/png": "[encoded data removed]"
     },
     "metadata": {},
     "execution_count": 9
    }
   ],
   "source": [
    "im_post = Image.fromarray(im_arr_thresh)\n",
    "im_post"
   ]
  },
  {
   "cell_type": "code",
   "execution_count": 10,
   "metadata": {},
   "outputs": [],
   "source": [
    "height, width = im_arr_thresh.shape\n",
    "\n",
    "import math\n",
    "\n",
    "if height > width:\n",
    "    diff = height - width\n",
    "\n",
    "    left_cols_num = math.ceil((diff) / 2)\n",
    "    right_cols_num = diff - left_cols_num\n",
    "\n",
    "    # im_resize = np.pad(im_arr_thresh, ((0,0),(right_cols_num, left_cols_num)), 'constant', constant_values=(np.uint8(255),np.uint8(255)))\n",
    "    im_resize = np.pad(im_arr_thresh, ((0,0),(right_cols_num, left_cols_num)), 'maximum')\n"
   ]
  },
  {
   "cell_type": "code",
   "execution_count": 11,
   "metadata": {},
   "outputs": [],
   "source": [
    "im_resize_im = Image.fromarray(im_resize)"
   ]
  },
  {
   "cell_type": "code",
   "execution_count": 12,
   "metadata": {},
   "outputs": [
    {
     "output_type": "execute_result",
     "data": {
      "text/plain": [
       "<PIL.Image.Image image mode=L size=45x45 at 0x7F4EA8037580>"
      ],
      "image/png": "[encoded data removed]"
     },
     "metadata": {},
     "execution_count": 12
    }
   ],
   "source": [
    "im_resize_im"
   ]
  },
  {
   "cell_type": "code",
   "execution_count": null,
   "metadata": {},
   "outputs": [],
   "source": []
  }
 ]
}