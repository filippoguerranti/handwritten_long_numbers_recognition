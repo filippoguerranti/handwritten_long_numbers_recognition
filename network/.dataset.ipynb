{
 "metadata": {
  "language_info": {
   "codemirror_mode": {
    "name": "ipython",
    "version": 3
   },
   "file_extension": ".py",
   "mimetype": "text/x-python",
   "name": "python",
   "nbconvert_exporter": "python",
   "pygments_lexer": "ipython3",
   "version": "3.8.5-final"
  },
  "orig_nbformat": 2,
  "kernelspec": {
   "name": "python38564bitf5e98526d62c4af1bdda9906588672b8",
   "display_name": "Python 3.8.5 64-bit",
   "language": "python"
  }
 },
 "nbformat": 4,
 "nbformat_minor": 2,
 "cells": [
  {
   "source": [
    "# MNIST dataset handling\n",
    "---\n",
    "\n",
    "In this notebook we will deploy a custom `dataset` class which will be able to:\n",
    "- import the MNIST dataset from a **url**\n",
    "- **read** the MNIST dataset and **load** it in a `torch.tensor`\n",
    "- **save** the dataset in `.pt` format to be easily accessible within the `PyTorch` environment\n",
    "- provide a method to create the dataset **splits**, according to some proportions\n",
    "- provide a method to perform some **preprocessing** operations\n",
    "\n",
    "We will procede as follows:\n",
    "- file decoding procedure\n",
    "    - analisys of the MNIST dataset format (info taken from this [source](http://yann.lecun.com/exdb/mnist/))\n",
    "    - reading the file and retrieving the data dimensions and type\n",
    "    - loading the data into a `torch.tensor`\n",
    "- `dataset` class construction\n",
    "    - `__init__`\n",
    "    - `create_splits`"
   ],
   "cell_type": "markdown",
   "metadata": {}
  },
  {
   "cell_type": "code",
   "execution_count": 1,
   "metadata": {},
   "outputs": [],
   "source": [
    "import torch\n",
    "import struct       # to unpack binary data https://docs.python.org/3/library/struct.html"
   ]
  },
  {
   "source": [
    "## File decoding procedure\n",
    "### MNIST Dataset format\n",
    "\n",
    "\n",
    "The **IDX file format** is a simple format for vectors and multidimensional matrices of various numerical types.\n",
    "The basic format is\n",
    "\n",
    "```\n",
    "magic number\n",
    "size in dimension 0\n",
    "size in dimension 1\n",
    "size in dimension 2\n",
    ".....\n",
    "size in dimension N\n",
    "data\n",
    "```\n",
    "    \n",
    "The magic number is an integer (MSB first). The first 2 bytes are always 0.\n",
    "\n",
    "The third byte codes the type of the data:\n",
    "- 0x08: unsigned byte\n",
    "- 0x09: signed byte\n",
    "- 0x0B: short (2 bytes)\n",
    "- 0x0C: int (4 bytes)\n",
    "- 0x0D: float (4 bytes)\n",
    "- 0x0E: double (8 bytes)\n",
    "\n",
    "The 4-th byte codes the number of dimensions of the vector/matrix: 1 for vectors, 2 for matrices....\n",
    "\n",
    "The sizes in each dimension are 4-byte integers (MSB first, high endian, like in most non-Intel processors).\n",
    "\n",
    "The data is stored like in a C array, i.e. the index in the last dimension changes the fastest."
   ],
   "cell_type": "markdown",
   "metadata": {}
  },
  {
   "source": [
    "### Reading the file and retrieving the data dimensions and type\n",
    "\n",
    "Taking into account the MNIST dataset format provided in the reference at the beginning of this notebook"
   ],
   "cell_type": "markdown",
   "metadata": {}
  },
  {
   "cell_type": "code",
   "execution_count": 2,
   "metadata": {},
   "outputs": [],
   "source": [
    "with open('train-images-idx3-ubyte', 'rb') as f:    # open the file for reading in binary mode 'rb'                         \n",
    "    m_numb_32bit = f.read(4)    # magic number"
   ]
  },
  {
   "source": [
    "At the moment, all the retrieved informations are in the form of bytes. \n",
    "\n",
    "The `f.read(4)` function call, reads 4 bytes (32 bits) at a time from the original file, then it proceeds to the next 4. And so on.\n",
    "\n",
    "In the above variable, the information are stored in exadecimal binary format.\n",
    "\n",
    "We can then retrieve the bytes composing the magic number and store them in a list (`m_numb_list`) in which the indices are as follows:\n",
    " - \\[0\\]: 0\n",
    " - \\[1\\]: 0\n",
    " - \\[2\\]: encoding number for the type of the data\n",
    " - \\[3\\]: number of dimensions\n"
   ],
   "cell_type": "markdown",
   "metadata": {}
  },
  {
   "cell_type": "code",
   "execution_count": 3,
   "metadata": {},
   "outputs": [
    {
     "output_type": "stream",
     "name": "stdout",
     "text": [
      "\nm_numb_list:  [0, 0, 8, 3]\n"
     ]
    }
   ],
   "source": [
    "m_numb_list = [byte for byte in m_numb_32bit]\n",
    "print('\\nm_numb_list: ',m_numb_list)"
   ]
  },
  {
   "source": [
    "As anticipated, the bytes of the magic number gives us some information. In particular:\n",
    "- the third byte defines the type of the data (in this case it is `0x08` which encoded for `unsigned byte`)\n",
    "- the fourth byte defines the number of dimensions (in this case `3`, so we have a cube)\n",
    "\n",
    "We can then read the following bytes to retrieve some other information about the dimensions of the data:\n",
    "- d_list_32bit\\[0\\]: size in dimension 0\n",
    "- d_list_32bit\\[1\\]: size in dimension 1\n",
    "- d_list_32bit\\[2\\]: size in dimension 2\n",
    "- ...\n",
    "- d_list_32bit\\[N\\]: size in dimension N\n",
    "\n",
    "**NOTE**: here we are considering the `train-images-idx3-ubyte` file, which is referred to the training images. For the other files, more or less dimensions might be available."
   ],
   "cell_type": "markdown",
   "metadata": {}
  },
  {
   "cell_type": "code",
   "execution_count": 4,
   "metadata": {},
   "outputs": [
    {
     "output_type": "stream",
     "name": "stdout",
     "text": [
      "d_list_32bit: [b'\\x00\\x00\\xea`', b'\\x00\\x00\\x00\\x1c', b'\\x00\\x00\\x00\\x1c']\n"
     ]
    }
   ],
   "source": [
    "with open('train-images-idx3-ubyte', 'rb') as f:    # open the file for reading in binary mode 'rb'       \n",
    "    f.read(4)                   # discard the first 4 bytes (magic number)\n",
    "    d_list_32bit = [f.read(4) for _ in range(m_numb_list[3])]\n",
    "\n",
    "print('d_list_32bit:', d_list_32bit)"
   ]
  },
  {
   "source": [
    "We obtain a list of three elements, which represents the the number of data in each dimension.\n",
    "\n",
    "We use the `struct` module from Python in order to convert the byte format into the decimal one.\n",
    "In order to do so, we use the big-endian format `\">\"` along with the type/size of bytes that we want to unpack at a time: \n",
    "- for the informations bytes (which corresponds to the N + 1 first 4-bytes (32 bits) elements of the file, being N the number of dimensions) we use the `\">I\"` format (i.e. big-endian 4-bytes int)\n",
    "- for the actual data we will rely on the third byte of the magic number."
   ],
   "cell_type": "markdown",
   "metadata": {}
  },
  {
   "cell_type": "code",
   "execution_count": 5,
   "metadata": {},
   "outputs": [
    {
     "output_type": "stream",
     "name": "stdout",
     "text": [
      "dimensions: [60000, 28, 28]\n"
     ]
    }
   ],
   "source": [
    "dimensions = [struct.unpack('>I', dimension)[0] for dimension in d_list_32bit]\n",
    "print('dimensions:', dimensions)\n"
   ]
  },
  {
   "source": [
    "At this point we can wrap all the lines of code written so far into a prototype function which will read an input IDX file and return the list of its dimensions."
   ],
   "cell_type": "markdown",
   "metadata": {}
  },
  {
   "cell_type": "code",
   "execution_count": 6,
   "metadata": {},
   "outputs": [],
   "source": [
    "def read_idx_file(file_path: str) -> list:\n",
    "    \n",
    "    # open the file for reading in binary mode 'rb'\n",
    "    with open(file_path, 'rb') as f:     \n",
    "        # magic number list   \n",
    "        m_numb_list = [byte for byte in f.read(4)] \n",
    "        # dimensions list  \n",
    "        d_list_32bit = [f.read(4) for _ in range(m_numb_list[3])]\n",
    "        # unpack data\n",
    "        dimensions = [struct.unpack('>I', dimension)[0] for dimension in d_list_32bit]\n",
    "\n",
    "        return dimensions"
   ]
  },
  {
   "cell_type": "code",
   "execution_count": 7,
   "metadata": {},
   "outputs": [
    {
     "output_type": "stream",
     "name": "stdout",
     "text": [
      "[60000, 28, 28]\n[60000]\n[10000, 28, 28]\n[10000]\n"
     ]
    }
   ],
   "source": [
    "print(read_idx_file(r'train-images-idx3-ubyte'))\n",
    "print(read_idx_file(r'train-labels-idx1-ubyte'))\n",
    "print(read_idx_file(r't10k-images-idx3-ubyte'))\n",
    "print(read_idx_file(r't10k-labels-idx1-ubyte'))"
   ]
  },
  {
   "source": [
    "### Loading the data into a `torch.tensor`\n",
    "\n",
    "Now we can focus on the part of the _file decoding procedure_: retrieving the data and loading it into a `torch.tensor`.\n",
    "\n",
    "It will be useful to report the encoding strings here and to create an ad-hoc dictionary to handle it.\n",
    "- 0x08: unsigned byte\n",
    "- 0x09: signed byte\n",
    "- 0x0B: short (2 bytes)\n",
    "- 0x0C: int (4 bytes)\n",
    "- 0x0D: float (4 bytes)\n",
    "- 0x0E: double (8 bytes)\n",
    "\n",
    "The encoding dictionary contains, for each exadecimal byte, the corresponding format, the standard size (used by `f.read(...)` in order to match the size defined by the format) and the PyTorch type, to be used when we will load the dataset into a `torch.tensor`.\n",
    "\n",
    "The format that we will use to unpack the data is reported below.\n"
   ],
   "cell_type": "markdown",
   "metadata": {}
  },
  {
   "cell_type": "code",
   "execution_count": 8,
   "metadata": {},
   "outputs": [],
   "source": [
    "encoding = {\n",
    "      b'\\x08':['B',1,torch.uint8]\n",
    "    , b'\\x09':['b',1,torch.int8]\n",
    "    , b'\\x0B':['h',2,torch.short]\n",
    "    , b'\\x0C':['i',4,torch.int32]\n",
    "    , b'\\x0D':['f',4,torch.float32]\n",
    "    , b'\\x0E':['d',8,torch.float64]\n",
    "    }\n",
    "\n",
    "e_format = \">\" + encoding[m_numb_list[2].to_bytes(1, byteorder='big')][0]\n",
    "n_bytes = encoding[m_numb_list[2].to_bytes(1, byteorder='big')][1]\n",
    "d_type = encoding[m_numb_list[2].to_bytes(1, byteorder='big')][2]"
   ]
  },
  {
   "source": [
    "Now that we have the dimensions and the encoding format we can procede retrieving the actual data.\n",
    "To do so, we will consider again the case of the training images dataset trying to generalize it as much as possible, in order to exploit the code for the other files too."
   ],
   "cell_type": "markdown",
   "metadata": {}
  },
  {
   "cell_type": "code",
   "execution_count": 9,
   "metadata": {},
   "outputs": [
    {
     "output_type": "stream",
     "name": "stdout",
     "text": [
      "Loading time: 18.926226\n"
     ]
    }
   ],
   "source": [
    "import time\n",
    "\n",
    "start = time.time()\n",
    "\n",
    "with open('train-images-idx3-ubyte', 'rb') as f:    # open the file for reading in binary mode 'rb'       \n",
    "    f.read(16)    # discard the first 16 bytes (magic number + informations)\n",
    "    \n",
    "    # reading all the bytes of the file progressively and store them in a torch.tensor accordingly to the dimensions\n",
    "    dataset = torch.tensor([[[struct.unpack(e_format, f.read(n_bytes))[0] \n",
    "                                for _ in range(dimensions[2])] \n",
    "                                for _ in range(dimensions[1])] \n",
    "                                for _ in range(dimensions[0])]\n",
    "                            , dtype=d_type)\n",
    "\n",
    "end = time.time()\n",
    "print(\"Loading time: {:2f}\".format(end-start))\n"
   ]
  },
  {
   "source": [
    "The bigger dataset, which in this case is the one of the training images, takes approximately 20s to be read and loaded into a `torch.tensor`.\n",
    "\n",
    "We can update the previously defined function, changing a bit its name into `read_idx_file_to_tensor()` and adapting the tensor inizialization taking into account the possibility of having different dimensions"
   ],
   "cell_type": "markdown",
   "metadata": {}
  },
  {
   "cell_type": "code",
   "execution_count": 10,
   "metadata": {},
   "outputs": [],
   "source": [
    "def read_idx_file_to_tensor(file_path: str) -> torch.tensor:\n",
    "    \n",
    "    # open the file for reading in binary mode 'rb'\n",
    "    with open(file_path, 'rb') as f:     \n",
    "        # magic number list   \n",
    "        m_numb_list = [byte for byte in f.read(4)] \n",
    "        # dimensions list  \n",
    "        d_list_32bit = [f.read(4) for _ in range(m_numb_list[3])]\n",
    "        dimensions = [struct.unpack('>I', dimension)[0] for dimension in d_list_32bit]\n",
    "        \n",
    "        encoding = {\n",
    "                      b'\\x08':['B',1,torch.uint8]\n",
    "                    , b'\\x09':['b',1,torch.int8]\n",
    "                    , b'\\x0B':['h',2,torch.short]\n",
    "                    , b'\\x0C':['i',4,torch.int32]\n",
    "                    , b'\\x0D':['f',4,torch.float32]\n",
    "                    , b'\\x0E':['d',8,torch.float64]\n",
    "                    }\n",
    "\n",
    "        e_format = \">\" + encoding[m_numb_list[2].to_bytes(1, byteorder='big')][0]\n",
    "        n_bytes = encoding[m_numb_list[2].to_bytes(1, byteorder='big')][1]\n",
    "        d_type = encoding[m_numb_list[2].to_bytes(1, byteorder='big')][2]\n",
    "\n",
    "\n",
    "        if len(dimensions) == 3:    # images\n",
    "           \n",
    "            print('Loading {} ...'.format(file_path))\n",
    "            \n",
    "            dataset = torch.tensor(\n",
    "                [\n",
    "                    [\n",
    "                        [struct.unpack(e_format, f.read(n_bytes))[0] \n",
    "                        for _ in range(dimensions[2])] \n",
    "                    for _ in range(dimensions[1])] \n",
    "                for _ in range(dimensions[0])]\n",
    "                , dtype=d_type\n",
    "            )\n",
    "\n",
    "            print('{} loaded!'.format(file_path))\n",
    "        \n",
    "\n",
    "        elif len(dimensions) == 1:  # labels\n",
    "        \n",
    "            print('Loading {} ...'.format(file_path))\n",
    "\n",
    "            dataset = torch.tensor(\n",
    "                [struct.unpack(e_format, f.read(n_bytes))[0]\n",
    "                for _ in range(dimensions[0])]\n",
    "                , dtype=d_type\n",
    "            )\n",
    "\n",
    "            print('{} loaded!'.format(file_path))\n",
    "        \n",
    "\n",
    "        else:   # wrong dimensions\n",
    "            raise ValueError(\"Invalid dimensions in the IDX file!\")\n",
    "\n",
    "        \n",
    "        return dataset"
   ]
  },
  {
   "source": [
    "Having created this main function, we are able to call it, passing the paths to the files. One possible method consists in calling the training images and the training labels inside a tuple called `training_set` which will then be just a tuple of `torch.tensor`s. The same will be done for the `test_set` tuple, as shown below."
   ],
   "cell_type": "markdown",
   "metadata": {}
  },
  {
   "cell_type": "code",
   "execution_count": 11,
   "metadata": {},
   "outputs": [
    {
     "output_type": "stream",
     "name": "stdout",
     "text": [
      "Loading train-images-idx3-ubyte ...\n",
      "train-images-idx3-ubyte loaded!\n",
      "Loading train-labels-idx1-ubyte ...\n",
      "train-labels-idx1-ubyte loaded!\n",
      "Loading t10k-images-idx3-ubyte ...\n",
      "t10k-images-idx3-ubyte loaded!\n",
      "Loading t10k-labels-idx1-ubyte ...\n",
      "t10k-labels-idx1-ubyte loaded!\n"
     ]
    }
   ],
   "source": [
    "training_set = (\n",
    "    read_idx_file_to_tensor(r'train-images-idx3-ubyte')\n",
    "    , read_idx_file_to_tensor(r'train-labels-idx1-ubyte')\n",
    ")\n",
    "\n",
    "test_set = (\n",
    "    read_idx_file_to_tensor(r't10k-images-idx3-ubyte')\n",
    "    , read_idx_file_to_tensor(r't10k-labels-idx1-ubyte')\n",
    "\n",
    ")"
   ]
  },
  {
   "source": [
    "We can check the correctness of this function by printing the first 10 image-label pairs of each dataset."
   ],
   "cell_type": "markdown",
   "metadata": {}
  },
  {
   "cell_type": "code",
   "execution_count": 12,
   "metadata": {},
   "outputs": [
    {
     "output_type": "display_data",
     "data": {
      "text/plain": "<Figure size 720x360 with 10 Axes>",
      "image/svg+xml": "<?xml version=\"1.0\" encoding=\"utf-8\" standalone=\"no\"?>\n<!DOCTYPE svg PUBLIC \"-//W3C//DTD SVG 1.1//EN\"\n  \"http://www.w3.org/Graphics/SVG/1.1/DTD/svg11.dtd\">\n<!-- Created with matplotlib (https://matplotlib.org/) -->\n<svg height=\"273.979567pt\" version=\"1.1\" viewBox=\"0 0 572.4 273.979567\" width=\"572.4pt\" xmlns=\"http://www.w3.org/2000/svg\" xmlns:xlink=\"http://www.w3.org/1999/xlink\">\n <metadata>\n  <rdf:RDF xmlns:cc=\"http://creativecommons.org/ns#\" xmlns:dc=\"http://purl.org/dc/elements/1.1/\" xmlns:rdf=\"http://www.w3.org/1999/02/22-rdf-syntax-ns#\">\n   <cc:Work>\n    <dc:type rdf:resource=\"http://purl.org/dc/dcmitype/StillImage\"/>\n    <dc:date>2020-12-10T21:34:35.445460</dc:date>\n    <dc:format>image/svg+xml</dc:format>\n    <dc:creator>\n     <cc:Agent>\n      <dc:title>Matplotlib v3.3.3, https://matplotlib.org/</dc:title>\n     </cc:Agent>\n    </dc:creator>\n   </cc:Work>\n  </rdf:RDF>\n </metadata>\n <defs>\n  <style type=\"text/css\">*{stroke-linecap:butt;stroke-linejoin:round;}</style>\n </defs>\n <g id=\"figure_1\">\n  <g id=\"patch_1\">\n   <path d=\"M 0 273.979567 \nL 572.4 273.979567 \nL 572.4 0 \nL 0 0 \nz\n\" style=\"fill:none;\"/>\n  </g>\n  <g id=\"axes_1\">\n   <g clip-path=\"url(#pd141f2b9e5)\">\n    <image height=\"97\" id=\"image27c62dc4e2\" transform=\"scale(1 -1)translate(0 -97)\" width=\"97\" x=\"7.2\" xlink:href=\"data:image/png;base64,\niVBORw0KGgoAAAANSUhEUgAAAGEAAABhCAYAAADGBs+jAAAEGElEQVR4nO2cyyt3QRjH533Jwj0WlJJYEJJyK4mkKFGuCwtbK7GyUcqGlFiIhSyU/4BsSLkslMhtoZSVlCXlFrm8u6d5Tp3fy7zOz/e8fT+r7/T8Zoy+PTPnzJmZX8aYD0N+lN8/3QFCEyCgCQDQBABoAgA0AQCaAABNAIAmABDrWnFiYkL00NDQp+udnZ2JXl1dVbHX11fRU1NTKnZ7e/vFHoYHZgIANAEAmgDAL+O4ilpVVSXaOydUVlaKzsrKcurY4+OjKs/MzIgeHx8X/fDw4NQ+EswEAGgCAM7DUSTS0tJEz8/Pq1hpaano3Nxcp/Z3d3dFex9l19bWRD89PTm1H22YCQDQBABoAgCBzAmRyMjIEF1YWKhis7OzogsKCpza39vbEz05Oaliy8vLot/f353aDwJmAgA0AYCoD0eRyMzMFN3T06Ni/f39onNycpzaPzg4ED02NqZiKysrTm1+B8wEAGgCADQBAKg5IRL5+fmi7fmho6ND/c6eVyLx9vamyhsbG6Kbm5tduugMMwEAmgBAaIYjP0pKSlS5q6tLdEVFhYo1Njb6tnN6eiq6rKxMxYJ+u2YmAEATAKAJAIR+TvgKz8/PomNj9b43e+NZU1OTim1tbQXaL2YCADQBAOe9qKikpqaKbm1tVbGYmBjfejs7O6KDHn68MBMAoAkA0AQAQj8nFBcXq/L09LTohoYG33reTWneL23RhJkAAE0AIJTDUXt7u+jFxUUVS0pK8q03PDwsemlpScWur6+/qXdfh5kAAE0AgCYAEJpV1Ly8PNGHh4eivUdrNzc3RdubvYwxZm5uTvTHB86/zUwAgCYAAPuImpCQoMoLCwuiExMTRXd3d6vfra+vB9uxAGAmAEATAIAdjkZHR1W5rq5O9Pb2tmh7+2JYYSYAQBMAoAkA/OickJycrMp3d3eiU1JSfOvZj6tIpzBdYSYAQBMAiPoCXltbm+iWlhYVOzo6Em3fb+Tl+PhYdG1trYrZ9x8VFRWp2ODgoOi+vr5P9TcaMBMAoAkA0AQAAp8T7AuojNEXgLheOuXXnjH6I099fb2Kvby8iI70CBxtmAkA0AQAAn9jzs7OVuX09PRvbd++GvRv2Kdzent7Vez+/t63nr0n6ebmRsXOz88//ff9YCYAQBMAoAkARH3Zwp4j4uLiVKy6ulp0TU2NitnHoDo7O/+5H1dXV6q8v78v2t7raoxeCjk5OVGxkZER0a7HrJgJANAEAKL+Uefy8tI3dnFxIdq7dd0+efnZt137XiRjjImPjxdt359kjDEDAwOi7TdrY/R9fOXl5Spmb0DgcBRiaAIANAGA0GyN/59hJgBAEwCgCQDQBABoAgA0AQCaAABNAIAmAEATAKAJANAEAGgCADQBAJoAAE0A4A/Nw+jxGAxTRwAAAABJRU5ErkJggg==\" y=\"-21.525022\"/>\n   </g>\n   <g id=\"text_1\">\n    <!-- 5 -->\n    <g transform=\"translate(51.485948 16.318125)scale(0.12 -0.12)\">\n     <defs>\n      <path d=\"M 10.796875 72.90625 \nL 49.515625 72.90625 \nL 49.515625 64.59375 \nL 19.828125 64.59375 \nL 19.828125 46.734375 \nQ 21.96875 47.46875 24.109375 47.828125 \nQ 26.265625 48.1875 28.421875 48.1875 \nQ 40.625 48.1875 47.75 41.5 \nQ 54.890625 34.8125 54.890625 23.390625 \nQ 54.890625 11.625 47.5625 5.09375 \nQ 40.234375 -1.421875 26.90625 -1.421875 \nQ 22.3125 -1.421875 17.546875 -0.640625 \nQ 12.796875 0.140625 7.71875 1.703125 \nL 7.71875 11.625 \nQ 12.109375 9.234375 16.796875 8.0625 \nQ 21.484375 6.890625 26.703125 6.890625 \nQ 35.15625 6.890625 40.078125 11.328125 \nQ 45.015625 15.765625 45.015625 23.390625 \nQ 45.015625 31 40.078125 35.4375 \nQ 35.15625 39.890625 26.703125 39.890625 \nQ 22.75 39.890625 18.8125 39.015625 \nQ 14.890625 38.140625 10.796875 36.28125 \nz\n\" id=\"DejaVuSans-53\"/>\n     </defs>\n     <use xlink:href=\"#DejaVuSans-53\"/>\n    </g>\n   </g>\n  </g>\n  <g id=\"axes_2\">\n   <g clip-path=\"url(#pd8a30b6e07)\">\n    <image height=\"97\" id=\"imaged7ba74a14e\" transform=\"scale(1 -1)translate(0 -97)\" width=\"97\" x=\"122.648276\" xlink:href=\"data:image/png;base64,\niVBORw0KGgoAAAANSUhEUgAAAGEAAABhCAYAAADGBs+jAAAEhUlEQVR4nO2cSyh2XRiGn/dPJMXAiAwYmDokh+RQhjKTYzFk4pBjKYwMFTKQkoGUc5GQFCmngUMZGzlLBg4phG/0Pf96Vrzf+7P3+z7+775G9+62917cPWuvvdayPUT0TiCg/BPoBgCEoAKEoACEoACEoACEoACEoACEoACEoACEoACEoACEoACEoIAgt28QFRUljqurq1m3t7cLz+PxsH5/l5O7fX19rAcGBlgfHR050s5AgkpQAEJQgIdcWNSJiYlhPTU1JbzU1NTPG+OlOzK5ublhPT4+Lrz6+nqf26kFVIICEIICEIICXHkmFBUVsR4bG/P5vKurK9Z3d3fCi4+P9+ka29vbrNfW1oTX2dnpc1v8CSpBAQhBAa6/Mdu8vr6yHhwcFN7w8DBrcxhKRJSRkcG6oqKCdWJiovi5zMxM1uZQmUh2aeYbOBHRzs7OH9vuFqgEBSAEBSAEBbjyTDCnH0xNRHR5ecm6rq7O52uenJywtqdCTBoaGlh3dHQIr7i4mPXLy4vw8Ez4y0EICnClOzJnQO3Z0NnZWTduyfT09LC235hbWlpYl5eXCy8sLIx1YWGhS637GFSCAhCCAhCCAvw+i2oONePi4py+tVdCQkJY25sM2traWJ+dnQmvqqqK9fLysuPtQiUoACEowO+zqGaXYO9Juri4cPXeT09PrLu6uoQXFPTvn6K1tVV4TU1NrDc3N4X38PDw7XahEhSAEBSAEBTgyhC1oKCA9eTkpPCCg4NZNzc3C6+3t9fppnwJc/WPSE69mPtgiYhqa2u/fT9UggIQggJc6Y5Mtra2xHF6ejrr9fV14eXl5bnZFJ+xZ37f3t5Y279Pdnb2t++HSlAAQlAAQlCA69MWjY2N4nhjY4N1Tk6O8HJzc1nbzwt/Yj4DiLz/r4QToBIUgBAU4Hp3dHBwII4XFxdZ5+fnC29ubo51SUmJ8HZ3d1mHhoayPj09daSdgQSVoACEoADXuyNzIYVITtrd398Lr7S0lPXIyIjwzAUfc0FmenrakXb6yvHxsePXRCUoACEoACEowPVZVG8kJSWJ49XVVdbh4eGfnre0tMS6rKxMeOZbd0JCgvCGhoZYX19ff3p9e1Hn8fHxw+sTEe3v7396HV9BJSgAISggoN2RTUpKCuuVlRXhRUREfHiOPdE3Pz/Puru7W3jn5+eszXVwIqLY2FjW9vb9iYkJ1uYw2ilQCQpACApACArw+15Ub+zt7bFeWFgQnj0U/Y23hSF7Mcbc+5qcnCw88ysBWNT5C0EIClDVHZmYn+4kkh8jGR0dZW1/RMQb5tutvaXdfhM2OTw89PkeXwGVoACEoACEoABV0xa+kpaWxnpmZkZ40dHRrO2hpbmS9/z8LLzIyEjWWVlZwjOfJfZ5ToBKUABCUMCP7I5MvrowZHN7e8va7Jr8ASpBAQhBAQhBAT/+mWBjrs7V1NQIr7KykrW9uay/v5+1E4v3/wVUggIQggL+d93RTwSVoACEoACEoACEoACEoACEoACEoACEoACEoACEoACEoACEoACEoIBfSFE4X5vKSzwAAAAASUVORK5CYII=\" y=\"-21.525022\"/>\n   </g>\n   <g id=\"text_2\">\n    <!-- 0 -->\n    <g transform=\"translate(166.934224 16.318125)scale(0.12 -0.12)\">\n     <defs>\n      <path d=\"M 31.78125 66.40625 \nQ 24.171875 66.40625 20.328125 58.90625 \nQ 16.5 51.421875 16.5 36.375 \nQ 16.5 21.390625 20.328125 13.890625 \nQ 24.171875 6.390625 31.78125 6.390625 \nQ 39.453125 6.390625 43.28125 13.890625 \nQ 47.125 21.390625 47.125 36.375 \nQ 47.125 51.421875 43.28125 58.90625 \nQ 39.453125 66.40625 31.78125 66.40625 \nz\nM 31.78125 74.21875 \nQ 44.046875 74.21875 50.515625 64.515625 \nQ 56.984375 54.828125 56.984375 36.375 \nQ 56.984375 17.96875 50.515625 8.265625 \nQ 44.046875 -1.421875 31.78125 -1.421875 \nQ 19.53125 -1.421875 13.0625 8.265625 \nQ 6.59375 17.96875 6.59375 36.375 \nQ 6.59375 54.828125 13.0625 64.515625 \nQ 19.53125 74.21875 31.78125 74.21875 \nz\n\" id=\"DejaVuSans-48\"/>\n     </defs>\n     <use xlink:href=\"#DejaVuSans-48\"/>\n    </g>\n   </g>\n  </g>\n  <g id=\"axes_3\">\n   <g clip-path=\"url(#p647f49d002)\">\n    <image height=\"97\" id=\"image4d1550dd54\" transform=\"scale(1 -1)translate(0 -97)\" width=\"97\" x=\"238.096552\" xlink:href=\"data:image/png;base64,\niVBORw0KGgoAAAANSUhEUgAAAGEAAABhCAYAAADGBs+jAAADf0lEQVR4nO2csUsjQRTGJ3KoKRSsBLWMIghaBAutI2hpbQoRUUllIVj5b4ggpIidNjbaCWqjYgpjQI2FASOIjaiFNkGvezdvuXB7e7PZz9vvV33Di7sjP9/MZrMxYYz5MiRSWqKeAKEECCgBAEoAgBIAoAQAKAEASgCAEgD4EfUEmsns7KzkfD6vapubm5IXFxebNSVjDDsBAkoAgBIAiNWeMDU1JTmRSEQ4Ew07AQBKACBWy5HN1xfOZ1nsBAAoAQBKACC2e4KXk5OTyM7NTgCAEgCI7XLkfcf8+fkZ0UzYCRBQAgCUAEBs9wTvbYvb29uIZsJOgIASAKAEACgBAEoAgBIAiO0lqpfp6WnJp6enTT03OwEASgAgYQJ+e3N1dVXy+Pi4k8ns7u5Kvr6+VjUXS8TCwoLkjY0NVbu7u5OcSqX++Vx/AzsBAEoAgBIA8L0nrK+vq7H9DP/Ly4uq3d/f+zr58PCwnoz1aVe9Xle19/d3yVdXV5LPzs7U64rFouSjoyNVe3p6kvzw8KBqXV1dkltbW/84d5ewEwCgBAB8v2NOJpNqbC8dS0tLqrazs+PrmCMjIw2PmclkVK2vr0+yvVzMzc2p183Pz0v++PhQNXvpam9vV7WWll9/j4ODg6p2c3Pz+1/AEewEACgBAEoAwMld1Ofn50A/VyqVGtYuLi58HSOXy6lxZ2en5MnJSVXLZrOS29raVM3eE9LptKpxT4gBlACAk+VodHRUjQ8ODlwcNhBvb2+St7e3Vc0eb21tqdrMzIzktbU1Vdvb25PsvTvgAnYCAJQAgO/lqFKpNKwNDQ05mUwzWVlZUWP7HfrAwICqdXR0SOZy9J9CCQBQAgC+94T9/X019l7GfTfsD3iMMaZarUru7u5Wtd7eXsm1Ws35XNgJAFACAL6Xo8vLSzX2tvN35/X1tWFtYmJCchiPSLITAKAEACgBgMB3UaP8BnwY2A8IeC9D+/v7Qz03OwEASgAg8HJUKBQkh92uzeDx8VGy/S+bjTFmbGxMchjPJLETAKAEACgBgMB7wuHhoeRyuexiLpFiX3Lbd1SNMaanp0dyGP9PlZ0AACUAEHg5Oj4+djkPKM7Pz9V4eXk51POxEwCgBAAoAYDA3+gn7mAnAEAJAFACAJQAACUAQAkAUAIAlAAAJQBACQBQAgCUAAAlAEAJAFACAJQAwE/bSMA8VseytQAAAABJRU5ErkJggg==\" y=\"-21.525022\"/>\n   </g>\n   <g id=\"text_3\">\n    <!-- 4 -->\n    <g transform=\"translate(282.3825 16.318125)scale(0.12 -0.12)\">\n     <defs>\n      <path d=\"M 37.796875 64.3125 \nL 12.890625 25.390625 \nL 37.796875 25.390625 \nz\nM 35.203125 72.90625 \nL 47.609375 72.90625 \nL 47.609375 25.390625 \nL 58.015625 25.390625 \nL 58.015625 17.1875 \nL 47.609375 17.1875 \nL 47.609375 0 \nL 37.796875 0 \nL 37.796875 17.1875 \nL 4.890625 17.1875 \nL 4.890625 26.703125 \nz\n\" id=\"DejaVuSans-52\"/>\n     </defs>\n     <use xlink:href=\"#DejaVuSans-52\"/>\n    </g>\n   </g>\n  </g>\n  <g id=\"axes_4\">\n   <g clip-path=\"url(#pfff16e5184)\">\n    <image height=\"97\" id=\"image9d4f70e376\" transform=\"scale(1 -1)translate(0 -97)\" width=\"97\" x=\"353.544828\" xlink:href=\"data:image/png;base64,\niVBORw0KGgoAAAANSUhEUgAAAGEAAABhCAYAAADGBs+jAAADNElEQVR4nO2cMWsiURSFx7BFIEUQBIORIJIihYW12ARthHQG0wU1Fv4IQWJaOwsLCyVNtLCwtlCs/AlaiLGLVgopbMxud/e9Yc26y8x4TM5Xncdz8MLnfW90xnEZhvHTIHvlaN8FEEqAgBIAoAQAKAEASgCAEgCgBAAoAYAfTr/h2dmZ5Farpc1Fo1HJ0+lUm7u8vLS3sD3CTgCAEgCgBAAc3xOurq4kRyIRp98eEnYCAJQAACUAQAkAUAIAlACA46eoy+VS8tvbmzbn8/kkn5+fa3PlcllyoVCQvF6vLa7QedgJAFACAC5jj/cd1et1bZxOpyV/fHxsPS4YDEqezWaW1+U07AQAKAEASgBgr3uCmc1mI/mzPeH+/l7yy8uLrTU5ATsBAEoAAGo5WiwWkt1u99bXDYdDyYlEQpt7f3+3vjCbYScAQAkAUAIAUHtCOByW3G63tbmLi4s/HtPpdLTx7e2t5XXZDTsBAEoAAGo5UqlWq9o4l8vtdFwoFJI8Ho8trcku2AkAUAIAlAAA7J4QCAS08WQy2em45+dnyZlMxsqSbIOdAAAlAOD4fUe78vr6qo2TyaTkRqMh+eTkRHudehOA1+vV5ubzuXUFWgg7AQBKAIASAIA9Rf2MfD4vuVKpaHNHR78/V91uV5u7u7uTvFqtbKru32EnAEAJABzkcqR+mzZf/FEvDJnvXXp6epJcKpVsqe1/YCcAQAkAHORypOLxeLSx+q3YvByp/xJKpVLaXK/Xs764HWEnAEAJAFACAAe/J5ip1WqSs9ns1tf1+31tHIvF7Crpr7ATAKAEAL7ccqQ+R8/8Lx71+XtmHh4eJKvXqZ2AnQAAJQBACQB8uT1BJR6Pa+Nmsyn59PRUmxuNRpJvbm60OfWnEDseaMJOAIASAPjSy5GZYrEoWX1mkhn1OrVhGMb19bXkwWBgeV3sBAAoAQBKAAD2XlQ7UB9QZT7VPD4+drocgZ0AACUA8K2WI/WWer/fr809Pj5KNp+iulwuW+tiJwBACQBQAgDf6mcLVNgJAFACAJQAACUAQAkAUAIAlAAAJQBACQBQAgCUAAAlAEAJAFACAJQAACUA8AsK8J5hsG1zxAAAAABJRU5ErkJggg==\" y=\"-21.525022\"/>\n   </g>\n   <g id=\"text_4\">\n    <!-- 1 -->\n    <g transform=\"translate(397.830776 16.318125)scale(0.12 -0.12)\">\n     <defs>\n      <path d=\"M 12.40625 8.296875 \nL 28.515625 8.296875 \nL 28.515625 63.921875 \nL 10.984375 60.40625 \nL 10.984375 69.390625 \nL 28.421875 72.90625 \nL 38.28125 72.90625 \nL 38.28125 8.296875 \nL 54.390625 8.296875 \nL 54.390625 0 \nL 12.40625 0 \nz\n\" id=\"DejaVuSans-49\"/>\n     </defs>\n     <use xlink:href=\"#DejaVuSans-49\"/>\n    </g>\n   </g>\n  </g>\n  <g id=\"axes_5\">\n   <g clip-path=\"url(#pa920fde5cf)\">\n    <image height=\"97\" id=\"imagedd58a46538\" transform=\"scale(1 -1)translate(0 -97)\" width=\"97\" x=\"468.993103\" xlink:href=\"data:image/png;base64,\niVBORw0KGgoAAAANSUhEUgAAAGEAAABhCAYAAADGBs+jAAAD50lEQVR4nO2cwSttURTG15WQJImBITFBJpQJmYgRiQHKADNzpSQUZiZSRgYGpIgSE0yQAf8AEsqAiZkSKbzZemud3pH73j33fuf1/Ubfbh3nLn3W3vvss66EiHwJyShZmU6A0AQIsjOdQKopLCxUPTc352IjIyOq6+rqXOzi4iLaxL6BlQAATQCAJgAQ+zXBrgEiIhsbG6pbW1tdbHt7W/X9/X20iSUBKwEAmgBA7Kej7u5uN7ZT0PHxsYtNT0+rfnl5iTSvZGAlAEATAKAJACQk5qeo19fXblxRUaG6qanJxc7OztKSU7KwEgCgCQDEcotaW1uruqqqysU+Pz9V397epi2nf4GVAABNAIAmABDLNaG5uVm1XQNERL6+4rfjZiUAQBMAiOV0dHd3l+kUUgorAQCaAABNACD2p6gfHx9ubLeoZWVlLvb09JSWnJKFlQAATQAgllvU9vb2TKeQUlgJANAEAGgCALFcE15fX1VnZfm/I3uq2tfX52KLi4vRJvaXsBIAoAkARD4dNTY2uvHe3p7q4uJiF7u5uVG9s7PjYisrK6ptr1Gw39T2GtkeJGRYCQDQBABoAgCRnKIWFRWpvry8dLHS0tLfH55IuNhPX9I/Pj6G3sOenAZPTYOnqiiwEgCgCQBEskXNyclRbaefIOXl5W789vamemhoyMU6OztV217UgoICd52d0kpKSlyso6ND9e7ubmhe6YaVAABNAIAmABD5FvXq6srF7DxtjzBERLq6un50/8rKStVra2suVl9fH/pzW1tbqoeHh10sk1+pZSUAQBMAiLzvaHJy0o2npqZUv7+/u9j+/r7q/v5+F7Mvcix5eXlu3NbWpnp9fT302tnZ2dC80g0rAQCaAEDa2yBnZmZUj4+Pu5h92l1aWnKxiYkJ1c/Pzz/6rODhYfCbnpaenh7VwRdKUcNKAIAmAEATAMhoa/zg4KAbLy8vh157eHioure3V/V368PAwIAb22aBIA8PD6obGhpcLOqWelYCADQBgIxOR9nZ/p2SnQYODg5cLD8/X/XJyYlqu+UVETk9PVWdm5vrYvbfddonaxH/rnpsbMzF5ufn//wLpAhWAgA0AQCaAADstzftNlREZGFhQbV9MRTsOzo6OlIdbDKorq4O/Tx7n83NTRcLttinGlYCADQBANjpKIhtsbdPwi0tLe66mpqa0HuMjo6qtq2UIr6lfnV11cXOz8+TSzZJWAkA0AQAaAIAsVkT/mdYCQDQBABoAgA0AQCaAABNAIAmAEATAKAJANAEAGgCADQBAJoAAE0AgCYAQBMAoAkA0AQAaAIANAEAmgAATQCAJgDwCwup2/50EIhLAAAAAElFTkSuQmCC\" y=\"-21.525022\"/>\n   </g>\n   <g id=\"text_5\">\n    <!-- 9 -->\n    <g transform=\"translate(513.279052 16.318125)scale(0.12 -0.12)\">\n     <defs>\n      <path d=\"M 10.984375 1.515625 \nL 10.984375 10.5 \nQ 14.703125 8.734375 18.5 7.8125 \nQ 22.3125 6.890625 25.984375 6.890625 \nQ 35.75 6.890625 40.890625 13.453125 \nQ 46.046875 20.015625 46.78125 33.40625 \nQ 43.953125 29.203125 39.59375 26.953125 \nQ 35.25 24.703125 29.984375 24.703125 \nQ 19.046875 24.703125 12.671875 31.3125 \nQ 6.296875 37.9375 6.296875 49.421875 \nQ 6.296875 60.640625 12.9375 67.421875 \nQ 19.578125 74.21875 30.609375 74.21875 \nQ 43.265625 74.21875 49.921875 64.515625 \nQ 56.59375 54.828125 56.59375 36.375 \nQ 56.59375 19.140625 48.40625 8.859375 \nQ 40.234375 -1.421875 26.421875 -1.421875 \nQ 22.703125 -1.421875 18.890625 -0.6875 \nQ 15.09375 0.046875 10.984375 1.515625 \nz\nM 30.609375 32.421875 \nQ 37.25 32.421875 41.125 36.953125 \nQ 45.015625 41.5 45.015625 49.421875 \nQ 45.015625 57.28125 41.125 61.84375 \nQ 37.25 66.40625 30.609375 66.40625 \nQ 23.96875 66.40625 20.09375 61.84375 \nQ 16.21875 57.28125 16.21875 49.421875 \nQ 16.21875 41.5 20.09375 36.953125 \nQ 23.96875 32.421875 30.609375 32.421875 \nz\n\" id=\"DejaVuSans-57\"/>\n     </defs>\n     <use xlink:href=\"#DejaVuSans-57\"/>\n    </g>\n   </g>\n  </g>\n  <g id=\"axes_6\">\n   <g clip-path=\"url(#p6dc4a3cc05)\">\n    <image height=\"97\" id=\"image75831eafd3\" transform=\"scale(1 -1)translate(0 -97)\" width=\"97\" x=\"7.2\" xlink:href=\"data:image/png;base64,\niVBORw0KGgoAAAANSUhEUgAAAGEAAABhCAYAAADGBs+jAAAEeUlEQVR4nO2cSyj1WxjGFw7lOlAGjIgBYkDKZUQpt3IZCUkmykQUMVAuJTFQIhNhquQyohAll4EBMwaUKHIpSohwzui8Z73/vr2//e325nF6fqPn9S7/verxrrWs9V87wBjztyHfSuB3d4DQBAhoAgA0AQCaAABNAIAmAEATAKAJANAEAGgCADQBAJoAAE0AgCYAQBMA+MsXD4mMjFRxZWWl6MzMTJW7ubkRPT09rXL39/ei397efNG1HwErAQCaAABNACDA+OCg/+DgQMXp6elePWd5eVn01taWyi0tLYk+OzsT/f7+7tVnIcFKAIAmAOCT4ejq6krFMTExol9fX1Xu+PhYdHh4uMolJSV59Hm9vb2iBwcHVe7j48OjZyDBSgCAJgBAEwDwyZzQ3Nys4rGxMdHPz88q19TUJHp1dVXlsrOzRTc2NqpcSUmJ6NDQUNH9/f2q3czMjOiLi4vf9t0TampqRNfW1rps19bWpuKTkxOPns9KAIAmAOCT4SgoKEjFAwMDotvb21Xu6elJdFdXl8rNzs6KtndUjTEmKytL9Pj4+C9/boweApzD5ObmpuioqCiVy8vLE11XV6dy5eXlop3Lahvn8JeQkOCyrQ0rAQCaAABNAMAnc4KT4OBg0c4lZEdHh8vfW1lZEV1fX69yDw8Pou1tEXvn1Rh9kuc8nRseHhadlpamchUVFS77tb6+LnpoaEjlnHOXzeHhocucDSsBAJoAgF+GI5uQkBAVFxcXi15YWHD5e319fSre2NgQvbOzIzo6OtplO+eQ4ynOJap9oOTcFfYFrAQAaAIANAEAv88JTuzla0ZGhsrNz8+Ljo2NVbmXlxfR9nJ1b29PtbPnnLCwMJf9uL29VfHIyIjo0dFRlfP3i2isBABoAgBfPhy5wx4+UlNTVa6np0d0aWmpy2cEBv73d/X5+emy3eXlpYrz8/NFn56e/ravvoSVAABNAIAmAAA1J3hKS0uLaHcnXU6qqqpEO+9N7O7uii4oKFA5f79QxkoAgCYA8COHI2+ZmpoS3dDQ4LKdvVw1xpjt7W1/dckYw0qAgCYA4JPbm94SFxenYnevSNrvE9k3QP8Ee7PP3XD01bASAKAJANAEAL51TpicnFRxUVGR6O7ubpWzb2zu7++L7uzsVO3Oz89dft719bU33fQ7rAQAaAIA3zoczc3NqdgejpzEx8f/Ujs34goLC0U7X1U/Ojryopf+h5UAAE0AgCYA8K1zwuLioopzcnJEV1dXq5zzi63+JTExUcVra2ui3c0xSLASAKAJAMAe6iQnJ6u4tbVVtP3qun2x3BhjAgICRDuXqI+Pj6JTUlJU7u7uTrTzUMf+UhR/wEoAgCYAQBMAgJ0T3GFvWzh3UXNzc0X/yXWpiYkJ0fZ7TV8BKwEAmgDAjxyO3GH/Zx0REaFyZWVlou0L6cbomzr+uKHpDlYCADQBAJoAwP9uTviJsBIAoAkA0AQAaAIANAEAmgAATQCAJgBAEwCgCQDQBABoAgA0AQCaAABNAIAmAPAP+mgSh5fSrkIAAAAASUVORK5CYII=\" y=\"-169.779567\"/>\n   </g>\n   <g id=\"text_6\">\n    <!-- 2 -->\n    <g transform=\"translate(51.485948 164.57267)scale(0.12 -0.12)\">\n     <defs>\n      <path d=\"M 19.1875 8.296875 \nL 53.609375 8.296875 \nL 53.609375 0 \nL 7.328125 0 \nL 7.328125 8.296875 \nQ 12.9375 14.109375 22.625 23.890625 \nQ 32.328125 33.6875 34.8125 36.53125 \nQ 39.546875 41.84375 41.421875 45.53125 \nQ 43.3125 49.21875 43.3125 52.78125 \nQ 43.3125 58.59375 39.234375 62.25 \nQ 35.15625 65.921875 28.609375 65.921875 \nQ 23.96875 65.921875 18.8125 64.3125 \nQ 13.671875 62.703125 7.8125 59.421875 \nL 7.8125 69.390625 \nQ 13.765625 71.78125 18.9375 73 \nQ 24.125 74.21875 28.421875 74.21875 \nQ 39.75 74.21875 46.484375 68.546875 \nQ 53.21875 62.890625 53.21875 53.421875 \nQ 53.21875 48.921875 51.53125 44.890625 \nQ 49.859375 40.875 45.40625 35.40625 \nQ 44.1875 33.984375 37.640625 27.21875 \nQ 31.109375 20.453125 19.1875 8.296875 \nz\n\" id=\"DejaVuSans-50\"/>\n     </defs>\n     <use xlink:href=\"#DejaVuSans-50\"/>\n    </g>\n   </g>\n  </g>\n  <g id=\"axes_7\">\n   <g clip-path=\"url(#p27491c28a5)\">\n    <image height=\"97\" id=\"image6dfd4afb4d\" transform=\"scale(1 -1)translate(0 -97)\" width=\"97\" x=\"122.648276\" xlink:href=\"data:image/png;base64,\niVBORw0KGgoAAAANSUhEUgAAAGEAAABhCAYAAADGBs+jAAACUUlEQVR4nO3cP2pqQRhAcZV01jY2EQvxD7gE12JlpzsQ3IJ7sLXSFdhaCSI2QnQFVnbq6y6OYBD05p7xnV81gwkMnPfNNZKXfC6Xu+aUqULWB5AREIwAYAQAIwAYAcAIAEYAMAKAEQCMAGAEACMAfGV9gFd9f38H+/l8nqwbjUbwWj6fT9a1Wi14bbfbpXC65zgJAEYAiP46ajabwf7+CoqBkwBgBAAjAET/TOj1elkf4WVOAoARAKK/jlqtVrC//an4XqHA/DfHPNV/xggARgCI8pnQ7/eTdbVaDV67Xh//au14PE7WWX5qes9JADACQJTXUb1ez/oIb+UkABgBwAgA+VyE/13qfD4n69/ekt5rt9vJerPZvPVMr3ASAIwAEOVb1NtPQy+Xy8Ovm06nwZ50Bd1yEgCMAGAEgCifCbfPgd/eoi4Wi784zsucBAAjABgBwAgARgAwAoARAIwAYASAKH9ifvZT1Fg4CQBGAIjyOnr2A7xYOAkARgAwAkA0z4ThcJj1EVLjJAAYAQB7HZXL5WDf7Xaf+r7RaJSsZ7PZG0+UHicBwAgARgDAPhNOp1OwPxwOybpSqTz8vuVymaz3+/3bz5UGJwHACADY6+h4PAb71WqVrDudzh+fJl1OAoARAIwAgH0mFIvFYH//55g/iZMAYAQA7HVUKpWC/ae9Lb3lJAAYAcAIANhnws/PT7CfTCbJejAYJOv1eh183Xa7TfVcaXASAIwAEOXfO/o0TgKAEQCMAGAEACMAGAHACABGADACgBEAjABgBAAjAPwDMDlbdR9zmyQAAAAASUVORK5CYII=\" y=\"-169.779567\"/>\n   </g>\n   <g id=\"text_7\">\n    <!-- 1 -->\n    <g transform=\"translate(166.934224 164.57267)scale(0.12 -0.12)\">\n     <use xlink:href=\"#DejaVuSans-49\"/>\n    </g>\n   </g>\n  </g>\n  <g id=\"axes_8\">\n   <g clip-path=\"url(#pdd0f4f68f4)\">\n    <image height=\"97\" id=\"imageb499a3a6ae\" transform=\"scale(1 -1)translate(0 -97)\" width=\"97\" x=\"238.096552\" xlink:href=\"data:image/png;base64,\niVBORw0KGgoAAAANSUhEUgAAAGEAAABhCAYAAADGBs+jAAAEEklEQVR4nO2dTSg9fxTGzxV5KQsWiuQlsrKQhYW8bLCwsFMKUbIUS7KTvaQoJSXJRpGQLCywV2wsrFggUeQ97m93+p7p7zbmzjXP//d7PqvndMZ3Tj3O946Zc0dMROJCIiUt6gIITYCAJgBAEwCgCQDQBABoAgA0AQCaAEB6KhbNzMxU3d/fb3KTk5Oq8/LyTG59fV313t6eyW1sbKi+uroKoUoc2AkA0AQAaAIAMQnhLmpNTY2Jh4aGVPf19SW7vIiInJ+fq35+flZ9cHBgjpufn1d9enoayrlTDTsBAJoAQCjb0fHxsYmrq6uTXdI3sVjMxNfX16o3NzdNbnh4WPXr62tqC/sB7AQAaAIANAGAlNy2SMTc3Jzqx8fHQGu0traqrq2tNbmCggLVAwMDJldRUfGfdYiIrK2tBaolDNgJANAEAEK5RG1oaDDx+Pi4anfrEBEpLy9XfXFxEeh8+fn5qtvb201uZmZGdW5u7rdrvLy8mLijo0P1/v5+oLqCwk4AgCYAQBMACOUS9fDw0MTu/trW1mZyt7e3SZ/v7u5O9fLyssllZGSonp6eNrmcnBzV2dnZJpeVlZV0XUFhJwBAEwBIyV/MHx8fqre2tlJxim9ZXFxU/fT0ZHIrKyu/Wotf2AkA0AQAaAIAv34X9TfZ3d2NugRfsBMAoAkARLodlZaWmrinp0e1dysJ8mDe+1AHFXYCADQBAJoAwK9/JriDYd7hrJKSEtUTExO+1ktLs79HX19fSVQXDewEAGgCAJFeosbj8YSxH7zbj981vHd3d3Z2fnzusGAnAEATAKAJAIQy/BWUsrIyE/f29qpuaWnxtYZ38MzvZ8LDw4OJR0dHVW9vb5vc5eWlrzWDwk4AgCYAEOl2FAbd3d0mdreVyspKk3NnkhLh/fpXY2Ojau8MaxiwEwCgCQD877ejRHR1dZl4cHBQdXNzs+913FF871VVGLATAKAJANAEAP7quaPV1VUTf35+qq6rqzM576i8i/uAaWRkJJziHNgJANAEACLdjtLT7ekLCwu/PdYdtw/6Djx3lun+/t7kEm1HxcXFqt33+4mIvL29BarFhZ0AAE0AgCYAEOltC/ddeSIiU1NT3x57c3OjemFhQfVP5o7q6+tV/+S2hYv3546OjgKt48JOAIAmABDpJar35SOJcN9jNDY2ptr7Drwgs0tRw04AgCYAQBMAiPQzwd3bRUTOzs5Ud3Z2mpx7KVpUVJTawjwsLS2pPjk5CX19dgIANAEA2Af9VVVVJnZnhpqamlTPzs6a48L4po77X0tE7MDA+/t70ut7YScAQBMAoAkAwH4m/EuwEwCgCQDQBABoAgA0AQCaAABNAIAmAEATAKAJANAEAGgCADQBAJoAAE0AgCYA8AdKg+ZUUfgATwAAAABJRU5ErkJggg==\" y=\"-169.779567\"/>\n   </g>\n   <g id=\"text_8\">\n    <!-- 3 -->\n    <g transform=\"translate(282.3825 164.57267)scale(0.12 -0.12)\">\n     <defs>\n      <path d=\"M 40.578125 39.3125 \nQ 47.65625 37.796875 51.625 33 \nQ 55.609375 28.21875 55.609375 21.1875 \nQ 55.609375 10.40625 48.1875 4.484375 \nQ 40.765625 -1.421875 27.09375 -1.421875 \nQ 22.515625 -1.421875 17.65625 -0.515625 \nQ 12.796875 0.390625 7.625 2.203125 \nL 7.625 11.71875 \nQ 11.71875 9.328125 16.59375 8.109375 \nQ 21.484375 6.890625 26.8125 6.890625 \nQ 36.078125 6.890625 40.9375 10.546875 \nQ 45.796875 14.203125 45.796875 21.1875 \nQ 45.796875 27.640625 41.28125 31.265625 \nQ 36.765625 34.90625 28.71875 34.90625 \nL 20.21875 34.90625 \nL 20.21875 43.015625 \nL 29.109375 43.015625 \nQ 36.375 43.015625 40.234375 45.921875 \nQ 44.09375 48.828125 44.09375 54.296875 \nQ 44.09375 59.90625 40.109375 62.90625 \nQ 36.140625 65.921875 28.71875 65.921875 \nQ 24.65625 65.921875 20.015625 65.03125 \nQ 15.375 64.15625 9.8125 62.3125 \nL 9.8125 71.09375 \nQ 15.4375 72.65625 20.34375 73.4375 \nQ 25.25 74.21875 29.59375 74.21875 \nQ 40.828125 74.21875 47.359375 69.109375 \nQ 53.90625 64.015625 53.90625 55.328125 \nQ 53.90625 49.265625 50.4375 45.09375 \nQ 46.96875 40.921875 40.578125 39.3125 \nz\n\" id=\"DejaVuSans-51\"/>\n     </defs>\n     <use xlink:href=\"#DejaVuSans-51\"/>\n    </g>\n   </g>\n  </g>\n  <g id=\"axes_9\">\n   <g clip-path=\"url(#p57b1c4bb88)\">\n    <image height=\"97\" id=\"image033b2778ac\" transform=\"scale(1 -1)translate(0 -97)\" width=\"97\" x=\"353.544828\" xlink:href=\"data:image/png;base64,\niVBORw0KGgoAAAANSUhEUgAAAGEAAABhCAYAAADGBs+jAAACPklEQVR4nO3cMa4pURyA8eNFJKrLBtQsgsQG2IfCMtRKSxAd61CLRqHTKKiIwuvmzdyEmOu+me/I96vOZG5xki//M1OYWwkh3INK9afsDcgICEYAMAKAEQCMAGAEACMAGAGgWvYG3jWfzzPXnU4nWQ8Gg8y9/X5fyJ7ychIAjABgBIDonwm9Xi9z3Ww2k3W9Xi96Oz/iJAAYASD642ixWGSux+Nxsk6/roYQwna7LWRPeTkJAEYAMAJA9M+E787nc7JeLpcl7uR1TgKAEQA+7jiqVCrJularZe5dLpeit/MSJwHACABGAKiEyH+LutlsMtftdjtZz2azzL3RaFTInvJyEgCMABDlK+pwOEzW6eMnhOxr6HQ6LWpLb3ESAIwAYASAKJ8J1erjbd/v/964r9drEdt5m5MAYASAKI+jVqv18N7tdkvW1N+efuckABgBwAgAUT4T+v1+2Vv4VU4CgBEAojyOnlmtVmVvITcnAcAIAEYA+LhnwvF4LHsLuTkJAEYAMAKAEQCMABDN21Gj0UjW3W63vI38B04CgBEAjAAQzTMh/Vujr6+vh3+32+2K2M6vchIAjAAQzXH0qvV6XfYWcnMSAIwAYASA6J8J6S/4Q+B+tf+MkwBgBIDoj6P0lzmxchIAjABgBIDonwmHw+HpdQycBAAjAERzHJ1Op2Sd/lJnMplk/s7jSD9iBAAjAET/P/A+gZMAYAQAIwAYAcAIAEYAMAKAEQCMAGAEACMAGAHACABGADACgBEA/gLbME/sVsHU/AAAAABJRU5ErkJggg==\" y=\"-169.779567\"/>\n   </g>\n   <g id=\"text_9\">\n    <!-- 1 -->\n    <g transform=\"translate(397.830776 164.57267)scale(0.12 -0.12)\">\n     <use xlink:href=\"#DejaVuSans-49\"/>\n    </g>\n   </g>\n  </g>\n  <g id=\"axes_10\">\n   <g clip-path=\"url(#pbf1971599a)\">\n    <image height=\"97\" id=\"image9c3fce6c99\" transform=\"scale(1 -1)translate(0 -97)\" width=\"97\" x=\"468.993103\" xlink:href=\"data:image/png;base64,\niVBORw0KGgoAAAANSUhEUgAAAGEAAABhCAYAAADGBs+jAAAEEklEQVR4nO2cTSg9URjGz0UpkrKTkJSFJBaSEiJlZ4VIChuxkLIgCwsfOzZWt4iFKAsfe98rIlEWFixEUvKRlSLs3v95p3s15m/mPree3+o5vceZo8f7zplzZoSMMV+GxJSEWE+A0AQIaAIANAEAmgAATQCAJgBAEwCgCQDQBABoAgA0AQCaAEBSrCdgMzw8LHpsbEzFmpqaRK+trQU2pyBgJgBAEwCAKkednZ1RY42NjaJZjsifQxMAoAkAhAzQQX9ubq7o7e1tFcvJyRE9OTkpenR01P+J+QwzAQCaAABUObKxn56N0U/QDw8PosvKylS/29tbfyfmA8wEAGgCADQBANh7Qnp6umqPj4+L7u3tFX11daX6FRQU+DsxH2AmAEATAPClHPX394teXV1VsZubG09jVlVVid7Y2BCdlpam+rW1tYk+Pz+POp5zKfv6+uppXn8BMwEAmgAATQDAl3uCvQNq74wao5ea8/PzrscsLCwUHQ6HRVdUVKh+oVBI9NdX9F9taWlJtTs6OlzP5a9hJgBAEwDwpRy1tLSIXlxcVLGPjw/RLy8vKmYvL5+fn1VsampKdHV1ddRr/1SO7Pb9/b2K1dTUiHY+hfsNMwEAmgAATQDA913U9vZ21V5YWIg+GaueX15eqlh+fn7Enzk+PlbtrKws0ZmZmSpmn8g5Y7GEmQAATQDA93KUlKRfd7XL09zcnIolJPz7m/j8/FSxo6Mj0fYu6vT0tOqXkZEhen19XcVKS0tFO5fOXV1dEecfBMwEAGgCADQBgJge9BcVFam2/d1BXl6eis3MzIgeGBhwNf7g4KBqT0xMiE5MTFSxvr4+0fYubRAwEwCgCQBAvXeUnZ0t2l6SGqPfQ2poaBC9t7fneny7zHR3d6vY3d2daPs1/CBgJgBAEwCAKkc2zo/Jh4aGRF9cXIiura1V/exNOiepqamiZ2dnVcz+WP3w8FDF7AOf9/f3H2btDWYCADQBAJoAAOw9wcnJyYno4uJi0fZy1RhjNjc3XY1XUlKi2vv7+6Lte4cxeud3eXnZ1fi/gZkAAE0AAOofjPxESkqKaPss+u3tzdN4p6enqn19fS3aubHo9RpuYSYAQBMAoAkAxM0S1f5camRkRHRra6vq9/T05Gl8exz7AMkYYx4fH0U3Nzer2NnZmafr2TATAKAJAMRNOQqS3d1d1a6srBS9s7OjYvX19f99PWYCADQBAJoAQNxsWwTJwcGBapeXl0fUxugl68rKiqfrMRMAoAkAsBxFwH6pwBhjkpOTRff09KhYXV2daJajOIYmAEATAOC2xS/Z2tpSbfuUz/kimluYCQDQBABYjgBgJgBAEwCgCQDQBABoAgA0AQCaAABNAIAmAEATAKAJANAEAGgCAN/PefBu90ZJCAAAAABJRU5ErkJggg==\" y=\"-169.779567\"/>\n   </g>\n   <g id=\"text_10\">\n    <!-- 4 -->\n    <g transform=\"translate(513.279052 164.57267)scale(0.12 -0.12)\">\n     <use xlink:href=\"#DejaVuSans-52\"/>\n    </g>\n   </g>\n  </g>\n </g>\n <defs>\n  <clipPath id=\"pd141f2b9e5\">\n   <rect height=\"96.206897\" width=\"96.206897\" x=\"7.2\" y=\"22.318125\"/>\n  </clipPath>\n  <clipPath id=\"pd8a30b6e07\">\n   <rect height=\"96.206897\" width=\"96.206897\" x=\"122.648276\" y=\"22.318125\"/>\n  </clipPath>\n  <clipPath id=\"p647f49d002\">\n   <rect height=\"96.206897\" width=\"96.206897\" x=\"238.096552\" y=\"22.318125\"/>\n  </clipPath>\n  <clipPath id=\"pfff16e5184\">\n   <rect height=\"96.206897\" width=\"96.206897\" x=\"353.544828\" y=\"22.318125\"/>\n  </clipPath>\n  <clipPath id=\"pa920fde5cf\">\n   <rect height=\"96.206897\" width=\"96.206897\" x=\"468.993103\" y=\"22.318125\"/>\n  </clipPath>\n  <clipPath id=\"p6dc4a3cc05\">\n   <rect height=\"96.206897\" width=\"96.206897\" x=\"7.2\" y=\"170.57267\"/>\n  </clipPath>\n  <clipPath id=\"p27491c28a5\">\n   <rect height=\"96.206897\" width=\"96.206897\" x=\"122.648276\" y=\"170.57267\"/>\n  </clipPath>\n  <clipPath id=\"pdd0f4f68f4\">\n   <rect height=\"96.206897\" width=\"96.206897\" x=\"238.096552\" y=\"170.57267\"/>\n  </clipPath>\n  <clipPath id=\"p57b1c4bb88\">\n   <rect height=\"96.206897\" width=\"96.206897\" x=\"353.544828\" y=\"170.57267\"/>\n  </clipPath>\n  <clipPath id=\"pbf1971599a\">\n   <rect height=\"96.206897\" width=\"96.206897\" x=\"468.993103\" y=\"170.57267\"/>\n  </clipPath>\n </defs>\n</svg>\n",
      "image/png": "[encoded data removed]"
     },
     "metadata": {
      "needs_background": "light"
     }
    }
   ],
   "source": [
    "import matplotlib.pyplot as plt\n",
    "\n",
    "n_images = 10\n",
    "\n",
    "fig = plt.figure(figsize=(10,5))\n",
    "for i in range(n_images):\n",
    "    image = training_set[0][i]\n",
    "    label = training_set[1][i].item()\n",
    "    sp = fig.add_subplot(2, 5, i+1)\n",
    "    sp.set_title(label)\n",
    "    plt.axis('off')\n",
    "    plt.imshow(image, cmap='gray')\n",
    "plt.show()\n"
   ]
  },
  {
   "cell_type": "code",
   "execution_count": 13,
   "metadata": {},
   "outputs": [
    {
     "output_type": "display_data",
     "data": {
      "text/plain": "<Figure size 720x360 with 10 Axes>",
      "image/svg+xml": "<?xml version=\"1.0\" encoding=\"utf-8\" standalone=\"no\"?>\n<!DOCTYPE svg PUBLIC \"-//W3C//DTD SVG 1.1//EN\"\n  \"http://www.w3.org/Graphics/SVG/1.1/DTD/svg11.dtd\">\n<!-- Created with matplotlib (https://matplotlib.org/) -->\n<svg height=\"273.979567pt\" version=\"1.1\" viewBox=\"0 0 572.4 273.979567\" width=\"572.4pt\" xmlns=\"http://www.w3.org/2000/svg\" xmlns:xlink=\"http://www.w3.org/1999/xlink\">\n <metadata>\n  <rdf:RDF xmlns:cc=\"http://creativecommons.org/ns#\" xmlns:dc=\"http://purl.org/dc/elements/1.1/\" xmlns:rdf=\"http://www.w3.org/1999/02/22-rdf-syntax-ns#\">\n   <cc:Work>\n    <dc:type rdf:resource=\"http://purl.org/dc/dcmitype/StillImage\"/>\n    <dc:date>2020-12-10T21:34:36.339611</dc:date>\n    <dc:format>image/svg+xml</dc:format>\n    <dc:creator>\n     <cc:Agent>\n      <dc:title>Matplotlib v3.3.3, https://matplotlib.org/</dc:title>\n     </cc:Agent>\n    </dc:creator>\n   </cc:Work>\n  </rdf:RDF>\n </metadata>\n <defs>\n  <style type=\"text/css\">*{stroke-linecap:butt;stroke-linejoin:round;}</style>\n </defs>\n <g id=\"figure_1\">\n  <g id=\"patch_1\">\n   <path d=\"M 0 273.979567 \nL 572.4 273.979567 \nL 572.4 0 \nL 0 0 \nz\n\" style=\"fill:none;\"/>\n  </g>\n  <g id=\"axes_1\">\n   <g clip-path=\"url(#pd375c4f12e)\">\n    <image height=\"97\" id=\"image2305b005e7\" transform=\"scale(1 -1)translate(0 -97)\" width=\"97\" x=\"7.2\" xlink:href=\"data:image/png;base64,\niVBORw0KGgoAAAANSUhEUgAAAGEAAABhCAYAAADGBs+jAAADjklEQVR4nO2cv0uqURjHT9fbILRY0BJFEQgS9JOmoJ9LFOKgU81N/QUNRg0trQ1BexCBELQ0NVRERQ1RkYi1KBIEEVQUJHS3h/NIdb1dT35f+36m7+kRfeDDc96Tr1pljHkzpKz8KncDhBIg+F3uBmxmZmYkLywsqNrp6ankkZERyXd3d+4bcwwnAQBKAIASAIC6JnxGR0eH5MPDQ8nhcFg9LplMfltPpYKTAAAlAAC1He3u7kp+fHxUtZqaGsmtra3v/t2rcBIAoAQAKAEAqGvC3t6e5KWlJVWz39KoNDgJAFACAFDbkc3KyopaT05OSm5qapI8MDCgHndyciL57c0b96s4CQBQAgCUAECV8ciN/mAwKPmzd0ojkYjkzc1Npz2VCk4CAJQAgGe2I5/PJ/ng4EByT0+PetzV1ZXk0dHRD2tIcBIAoAQAKAEAz1wTbOrq6iQfHR2pWktLi+S1tTVVm5iYcNvYF+EkAEAJAHhyO7IZHx9X642NDclPT0+qZh9Z7WNuueEkAEAJAFACAJ6/JhQyOzsreW5uTtW2trYkj42NfVdLf4WTAAAlAFBx25Hf75dsf47JGGPa2tokDw8Pq9r+/r7bxj6BkwAAJQBACQDAfvjrqzw/P0u2j6TGGNPV1SV5fn5e1ewj6+vrq6Pu3oeTAAAlAFBxR1Sbvr4+td7e3pZcXV2taoODg5J3dnac9lUIJwEASgCAEgCo6GtCIfaxNB6Pq9r9/b3k/v5+VTs/P3faFycBAEoA4EdtR/X19ZLPzs4+rMViMVVLJBJO++IkAEAJAPyo7cgmGo2q9fr6uuTC09DQ0JBkF7+5x0kAgBIAoAQAYK8JgUBArTs7OyXb39rv7e0t+jlfXl4kp1IpVbu8vJRcW1uratPT05KXl5eLfr1i4SQAQAkAOLnHbP+Mcnt7u6rZYx8KhVStu7tbsn2TxRhjGhoaJGcyGcmNjY1F95XP5yXf3t6qWuEWZGP/5p4LOAkAUAIAlACAkyPq9fW15Obm5i89x8PDg1pfXFz8T0v/RDabVevFxUXJx8fHJX89TgIAlACAk+3IvikyNTWlarlcTrL9H6wxxqyurkq+ublRtXQ6XcoWoeAkAEAJAFACALDvov4kOAkAUAIAlAAAJQBACQBQAgCUAAAlAEAJAFACAJQAACUAQAkAUAIAlAAAJQBACQBQAgCUAAAlAEAJAFACAJQAwB+K1sLqlRBOMgAAAABJRU5ErkJggg==\" y=\"-21.525022\"/>\n   </g>\n   <g id=\"text_1\">\n    <!-- 7 -->\n    <g transform=\"translate(51.485948 16.318125)scale(0.12 -0.12)\">\n     <defs>\n      <path d=\"M 8.203125 72.90625 \nL 55.078125 72.90625 \nL 55.078125 68.703125 \nL 28.609375 0 \nL 18.3125 0 \nL 43.21875 64.59375 \nL 8.203125 64.59375 \nz\n\" id=\"DejaVuSans-55\"/>\n     </defs>\n     <use xlink:href=\"#DejaVuSans-55\"/>\n    </g>\n   </g>\n  </g>\n  <g id=\"axes_2\">\n   <g clip-path=\"url(#p07cc7d8210)\">\n    <image height=\"97\" id=\"image53b8776506\" transform=\"scale(1 -1)translate(0 -97)\" width=\"97\" x=\"122.648276\" xlink:href=\"data:image/png;base64,\niVBORw0KGgoAAAANSUhEUgAAAGEAAABhCAYAAADGBs+jAAAD00lEQVR4nO2cvUsrQRTF1+dTEQQFCxECgq1BLRTBWrTSNIKlf4EgmmhlFEFbBQs7C238wCiChZWI4AfYWIg2QkgTAlEQRYKJvtdd5i6sb2Oyu0ff+VXncieZgcOdmd3Z3QrLsv5YJFB+BT0AQhMgoAkA0AQAaAIANAEAmgAATQCAJgBAEwCgCQDQBABoAgA0AQCaAABNAOB3kJ1PTU2puKqqytXv2traRI+MjLjub21tTXQymXRst7u7q+K7uzvXfXwFVgIANAEAmgBAheXzQX8ikRAdiUT87No1hUJBxR8fH45tDw4ORF9dXTm2Oz09VfHFxYVoVgIANAEA36ejXC4n2u2W9Kvs7OyoOJ1Oi25qalK5Yra6XyEej6t4YWFBNCsBAJoAAE0AAHZNaG9vV3Emkym6r6enJxXn83nHvuvr6x3/p6GhQfTExITr/t/f30VPT0+r3Ovrq2hWAgA0AQDY6SgUCqnY3F7+NFgJANAEAGgCAL6vCYuLi6Lt2zaT/f19FY+Ojop+eXkp+7iChJUAAE0AwPfpqLGxUfTh4aHKdXd3O/5ueXlZ9OTkZNnHFSSsBABoAgA0AQDfH/56eHgQbW5XLcuytre3RdtvaXR2doquq6sT/RO2q6wEAGgCAL5vUT/j7OxMdE9Pj2O7n7ZdZSUAQBMAoAkAQK0Jzc3Noq+vr1XOvN2RzWZF9/b2qnb39/cejc47WAkA0AQAoKYjE/uhTn9/v+iamhrR6+vrqt3Y2Jjo73I1zUoAgCYAADsd2ZmbmxM9MzPj2G5lZUX0+Pi4hyMqH6wEAGgCADQBgEDf6C8G883It7c30dXV1aqd+drT3t6eyp2cnHg0utJgJQBAEwD4NltUk1gsJnp+fl7lzOnp8vJS5fr6+kSbb8oEDSsBAJoAAE0AwPc1oaWlRfTz87PKPT4+Fv1/9sOfcDjs2NZcE46Pj4vuyytYCQDQBAA8v2IeHBxUsfm9o9vbW5UbGBgQ7fZtzc3NTRXPzs6K9voDJuWClQAATQCAJgDg+Ra1q6tLxebzppWVlSp3c3MjemhoSOXMZ43MA3z7XVTz23IdHR0qt7S0JDoajf5z7H7BSgCAJgDg+RbV/plK86BleHhY5czPL9sfZzQ/lXx0dCS6tbVVtbNPQSbmW0JIsBIAoAkA0AQAAj1Z29raUrF9jSgV+7pi3kVNpVJl7asUWAkA0AQAoA76zavY2tpalTM/0fnZtLW6uir6/Pxc5TY2NkodoiewEgCgCQDQBACg1oT/FVYCADQBAJoAAE0AgCYAQBMAoAkA0AQAaAIAfwGNze7QdsZV3AAAAABJRU5ErkJggg==\" y=\"-21.525022\"/>\n   </g>\n   <g id=\"text_2\">\n    <!-- 2 -->\n    <g transform=\"translate(166.934224 16.318125)scale(0.12 -0.12)\">\n     <defs>\n      <path d=\"M 19.1875 8.296875 \nL 53.609375 8.296875 \nL 53.609375 0 \nL 7.328125 0 \nL 7.328125 8.296875 \nQ 12.9375 14.109375 22.625 23.890625 \nQ 32.328125 33.6875 34.8125 36.53125 \nQ 39.546875 41.84375 41.421875 45.53125 \nQ 43.3125 49.21875 43.3125 52.78125 \nQ 43.3125 58.59375 39.234375 62.25 \nQ 35.15625 65.921875 28.609375 65.921875 \nQ 23.96875 65.921875 18.8125 64.3125 \nQ 13.671875 62.703125 7.8125 59.421875 \nL 7.8125 69.390625 \nQ 13.765625 71.78125 18.9375 73 \nQ 24.125 74.21875 28.421875 74.21875 \nQ 39.75 74.21875 46.484375 68.546875 \nQ 53.21875 62.890625 53.21875 53.421875 \nQ 53.21875 48.921875 51.53125 44.890625 \nQ 49.859375 40.875 45.40625 35.40625 \nQ 44.1875 33.984375 37.640625 27.21875 \nQ 31.109375 20.453125 19.1875 8.296875 \nz\n\" id=\"DejaVuSans-50\"/>\n     </defs>\n     <use xlink:href=\"#DejaVuSans-50\"/>\n    </g>\n   </g>\n  </g>\n  <g id=\"axes_3\">\n   <g clip-path=\"url(#p4fc30b533c)\">\n    <image height=\"97\" id=\"imagea6eeb46092\" transform=\"scale(1 -1)translate(0 -97)\" width=\"97\" x=\"238.096552\" xlink:href=\"data:image/png;base64,\niVBORw0KGgoAAAANSUhEUgAAAGEAAABhCAYAAADGBs+jAAACyklEQVR4nO3cv4rqQBQG8Fm9VhZiIQjai28gaCPWIqIg+AKCjWDhKwjik9hY+KcV0VJQsbHUTmysFBvZ7c7OhJvLXdnEb+T7VSc7KQa+PZMxJn4opT4VvVTg1RMghgCBIQBgCAAYAgCGAIAhAGAIABgCAIYAgCEAYAgAGAKAP6+egC4UCkk9n8+NsfP5LHW9Xpf6drt5PzGPsRMAMAQAsMtRNBo1xjKZjNStVkvqbrfr/cQ8xk4AwBAAMAQAUNcEfbs5nU6NsVQqJXW1WpW61+sZ5z0eD49m5x12AgCGAOBDgT53lMvljOPZbCZ1MBiUulAouJ5nC3YCAIYAgCEAgNqi6pbLpXF8Op2kTiQSfk/HU+wEAAwBAOxy5DQej6VuNBpSF4tF4zxuUekpDAEAQwBgzTXheDz+9e/Ob+BsxE4AwBAAwN5FdYrH41JvNhupL5eLcV46nfZrSr+GnQCAIQBgCACs2aLqd1EXi4XUlUrFOK9cLks9HA69n9gvYCcAYAgArFmOdNvtVmr9GSTnMZcj+m8MAQBDAGDNbQud/q7CZDIxxg6Hg9TZbNYYu9/vns7rWewEAAwBgJXLka7f7xvH7XZb6lKpZIyNRiNf5vRT7AQADAGAlZ+YdbvdznWs0+kYx1yOyBVDAMAQAFh/TXD+EIkuFov5OJPnsRMAMAQA1i9H+g07pZRarVZSO5ejcDgs9fV69XReP8FOAMAQADAEANbfRXXSv+gfDAbGWD6fl/pfW1u/sRMAMAQA1m9Rnfb7vdTObWitVpOayxEZGAIAhgDg7baoOudvpjabTakjkYjf03HFTgDAEAC83RZVp7/lqZR5F1V/o0ep1z5Gz04AwBAAMAQAb31NWK/XxnEg8P0/l0wm/Z6OK3YCAIYA4K0/MduCnQCAIQBgCAAYAgCGAIAhAGAIABgCAIYAgCEAYAgAGAIAhgDgC8gshHc700ikAAAAAElFTkSuQmCC\" y=\"-21.525022\"/>\n   </g>\n   <g id=\"text_3\">\n    <!-- 1 -->\n    <g transform=\"translate(282.3825 16.318125)scale(0.12 -0.12)\">\n     <defs>\n      <path d=\"M 12.40625 8.296875 \nL 28.515625 8.296875 \nL 28.515625 63.921875 \nL 10.984375 60.40625 \nL 10.984375 69.390625 \nL 28.421875 72.90625 \nL 38.28125 72.90625 \nL 38.28125 8.296875 \nL 54.390625 8.296875 \nL 54.390625 0 \nL 12.40625 0 \nz\n\" id=\"DejaVuSans-49\"/>\n     </defs>\n     <use xlink:href=\"#DejaVuSans-49\"/>\n    </g>\n   </g>\n  </g>\n  <g id=\"axes_4\">\n   <g clip-path=\"url(#pae2802e21e)\">\n    <image height=\"97\" id=\"imageae9e647dc3\" transform=\"scale(1 -1)translate(0 -97)\" width=\"97\" x=\"353.544828\" xlink:href=\"data:image/png;base64,\niVBORw0KGgoAAAANSUhEUgAAAGEAAABhCAYAAADGBs+jAAAD/ElEQVR4nO2czSt1URTG9+X1HzAxQChl6iMDH2WEkJSYyIyBkKGUmBjKREQZSrdISDJTCgMDE18zJhIGSkY+3tl619p1dN9zz7n3iec3elZr22fXY+2z79lnn4Rz7suRrJKT7QEQmgABTQCAJgBAEwCgCQDQBABoAgA0AQCaAABNAIAmAEATAPiT7QFoWlpaRA8ODppcR0eH6O3tbdHLy8umXSKREH1xcWFyd3d3kYwzalgJANAEABIuw5s6jY2Noru6ukxubGxM9OfnZ6j+c3L+/V+Njo6a3MLCQqg+44aVAABNAIAmABD7PaG4uNjEx8fHogsKCkxOz+dR3BMeHh5M7vLyUrS/BL6/vxf99vYW6tphYSUAQBMAiP0Xc3d3t4n9KShO/Gvp+OrqyuSWlpZEj4yMxDswD1YCADQBAJoAQOxL1JubGxOXlZUFtm1vbw/M6aelhYWFge2iWObm5uaG+ruwsBIAoAkAxD4dXV9fm7i0tDSwbV5eXtrX29vbE11RUWFyRUVFKfWxv79vYr2hFAesBABoAgA0AQCojf4oaGtrEz0/P29yw8PDKfVRWVlp4vr6etFHR0fhBxcAKwEAmgDAj1uiavynqHqaWV9fN7n8/HzR+le3c3ZzqK6uzuSieJeJlQAATQCAJgAQ+xJ1Z2fHxPoFr7h5fHw08eHhoejZ2VmTm5ubC+xH31uivm85x0qAgCYAEPsStby83MT+klWTyc2UkpISEyeTSdE1NTUmpzeH1tbWTK6/vz/tsbASAKAJANAEADL+FPW7zffT01PRPT09Jhf1UaevL3sr1OPyx6jj6enpSMfhHCsBApoAANSmTnV1tejV1VWT6+vrE/309JT2tTo7O01cVVWVdp9hYSUAQBMAiH06en9/N7GeSvRGik9TU5OJT05ORG9sbIiemZkx7b47ZaNPDU1MTAS28/uYmpoSHceBdFYCADQBAJoAQMZP9Ou53l+G6iebqb7Wro85OefcwcGB6JeXF5Nrbm4WPTk5Gdin/yWAxcXFlMYSFlYCADQBgIxPRxr9GrtzzrW2tooOe8rm+flZ9Ovrq8n5B9uD4EmdXwhNAIAmAJDVe4LPx8eH6Cg+MPJdH7e3tybu7e0VfXZ2FuraYWElAEATAIDa1BkfHxftfx+voaHhv/vb3Nw0sT5lc35+bnKZnoI0rAQAaAIANAEAqCWqxj/qtLW1Jbq2tjbw7/hdVBIKmgAA1BJV45+yGRgYEK0/rfkTYCUAQBMAoAkAwN4TfPRnlFdWVkQPDQ2Zdvrxw+7ubvwDiwBWAgA0AQDYX8y/CVYCADQBAJoAAE0AgCYAQBMAoAkA0AQAaAIANAEAmgAATQCAJgDwF/2K/n77W63TAAAAAElFTkSuQmCC\" y=\"-21.525022\"/>\n   </g>\n   <g id=\"text_4\">\n    <!-- 0 -->\n    <g transform=\"translate(397.830776 16.318125)scale(0.12 -0.12)\">\n     <defs>\n      <path d=\"M 31.78125 66.40625 \nQ 24.171875 66.40625 20.328125 58.90625 \nQ 16.5 51.421875 16.5 36.375 \nQ 16.5 21.390625 20.328125 13.890625 \nQ 24.171875 6.390625 31.78125 6.390625 \nQ 39.453125 6.390625 43.28125 13.890625 \nQ 47.125 21.390625 47.125 36.375 \nQ 47.125 51.421875 43.28125 58.90625 \nQ 39.453125 66.40625 31.78125 66.40625 \nz\nM 31.78125 74.21875 \nQ 44.046875 74.21875 50.515625 64.515625 \nQ 56.984375 54.828125 56.984375 36.375 \nQ 56.984375 17.96875 50.515625 8.265625 \nQ 44.046875 -1.421875 31.78125 -1.421875 \nQ 19.53125 -1.421875 13.0625 8.265625 \nQ 6.59375 17.96875 6.59375 36.375 \nQ 6.59375 54.828125 13.0625 64.515625 \nQ 19.53125 74.21875 31.78125 74.21875 \nz\n\" id=\"DejaVuSans-48\"/>\n     </defs>\n     <use xlink:href=\"#DejaVuSans-48\"/>\n    </g>\n   </g>\n  </g>\n  <g id=\"axes_5\">\n   <g clip-path=\"url(#pc4312bd446)\">\n    <image height=\"97\" id=\"image8e51ef1771\" transform=\"scale(1 -1)translate(0 -97)\" width=\"97\" x=\"468.993103\" xlink:href=\"data:image/png;base64,\niVBORw0KGgoAAAANSUhEUgAAAGEAAABhCAYAAADGBs+jAAADoklEQVR4nO2dPyh+YRTHzyslg0USmzC8A6VMipkyGFgMymYiKYuRwUQZZLMiFikyMSrGF5PBIPJvIkRe2/mdc3Pl/f3e597v7/b9TOfp6N5TH+e5j+f+kRORopBUqUi7AEIJEFACAJQAACUAQAkAUAIAlAAAJQBQmXYBIdnZ2XHjxcVFjQ8ODpIuJxZ2AgCUAAAlAJCTDO+i3tzcuHFl5Z9L4NzcnMstLS0lUtN3sBMAoAQAMj0dzc/Pu/H09LTGLy8vLldTU5NITd/BTgCAEgCgBAAyvW3x+voam6uurk6wkp9hJwBACQBkejrK5XI/jlFgJwBACQBQAgCZviYUi8Ufx5a2tjaNC4VCsJq+g50AACUAkOp01NHR4catra0lH2Nrays219zc/OvjJD0FWdgJAFACAJQAQPBrQj6fd+PZ2VmN+/v7Xa6qqqrk49/f37uxXYbW1dX9+jh2VzV61y007AQAKAGA4Df6NzY23HhwcFDj4+Njl7PPiv4W+5euiF+WNjU1uVxXV1fsccbHxzVeWVkpuY5/gZ0AACUAQAkABFmi2uVeS0uLy52enmocXaI+Pj6WfK7Nzc3YXH19vRtfX1/H/mxFRXq/j+wEACgBgCDTkX2uM7pTura2pvHfTD+lcHt768Z2x9UulUVEuru7NV5eXg5aVxR2AgCUAAAlABDkmvD29qbx1dWVyw0PD2s8MjIS4vSxXFxcxOai2x9Jwk4AgBIASHUX1e5cioTfvbS7qkdHRy5XW1urcW9vr8uFfvufnQAAJQAQfDoaGhpy49XVVY0vLy9drr29PWQpjoWFBTeenJzU+PDw0OX6+vo0fn9/L3st7AQAKAEASgAg8Tf619fXNR4YGHC5np4ejU9OToLWYZekIiIPDw8af35+ulxDQ4PGd3d3Za+FnQAAJQCQ+HRkN8qiS0E7JXR2drrc09NT0LpsLfYGj4hIY2OjxpyOMgolAEAJACT+upR9Lcne4BER2dvb03hmZsblouNys729rXH0mhAadgIAlABAqt/As5/IFPE3T6JvctplYghGR0c1npqacjn7SP3z83PZz81OAIASAKAEAFJ9o//j48ONd3d3NZ6YmEi0FrtNcnZ25nIhrgMWdgIAlAAA1PeO9vf3NR4bG0v03Pa/jpyfnyd6bnYCAJQAACUAkOlP9/8vsBMAoAQAKAEASgCAEgCgBAAoAQBKAIASAKAEACgBAEoAgBIAoAQAKAEASgDgC2TwzGvuLSpAAAAAAElFTkSuQmCC\" y=\"-21.525022\"/>\n   </g>\n   <g id=\"text_5\">\n    <!-- 4 -->\n    <g transform=\"translate(513.279052 16.318125)scale(0.12 -0.12)\">\n     <defs>\n      <path d=\"M 37.796875 64.3125 \nL 12.890625 25.390625 \nL 37.796875 25.390625 \nz\nM 35.203125 72.90625 \nL 47.609375 72.90625 \nL 47.609375 25.390625 \nL 58.015625 25.390625 \nL 58.015625 17.1875 \nL 47.609375 17.1875 \nL 47.609375 0 \nL 37.796875 0 \nL 37.796875 17.1875 \nL 4.890625 17.1875 \nL 4.890625 26.703125 \nz\n\" id=\"DejaVuSans-52\"/>\n     </defs>\n     <use xlink:href=\"#DejaVuSans-52\"/>\n    </g>\n   </g>\n  </g>\n  <g id=\"axes_6\">\n   <g clip-path=\"url(#p400f814b21)\">\n    <image height=\"97\" id=\"imagecde4b9d78a\" transform=\"scale(1 -1)translate(0 -97)\" width=\"97\" x=\"7.2\" xlink:href=\"data:image/png;base64,\niVBORw0KGgoAAAANSUhEUgAAAGEAAABhCAYAAADGBs+jAAADEUlEQVR4nO2cvWpiQRiGT+L6g42iVkGsLLVSEOzTaCHWWqQTRfACxE4vwSuwsAkp0oitYBUFC1sLwVLRLqCi6WZnDnuWNevoO+F9qneYSfjIk2/mnOPPg2VZZ4vclcd7F0AoAQJKAIASAKAEACgBAEoAgBIAoAQAft27ACeenp6UcbvdFnk6nYrc7XZvVpMu2AkAUAIAlAAA1JngcrlE7nQ6ytzLy8sf1/FMIFeBEgCA2o4eH3//T6TTacd18Xj8FuXcDHYCAJQAACUAAHUmHA4HkReLhTKXSCRE9vl8IrvdbsffYQrsBAAoAQCo7UhmOBwq40KhIHIsFhM5EAgo69brtd7CNMBOAIASAKAEAGDPhM1m4zgXiUREbjQaylyr1dJWky7YCQBQAgAPFuhb46PRqDJeLpciy09b5/O5si6ZTOotTAPsBAAoAQBKAAD2TLDT6/VELpfLIu92O2Xd8/OzyJPJRHtd14CdAAAlAAB7x2zn9fVVZHk7CgaDyrpKpSIytyPyz1ACAJQAgDFngvxU9XQ6iSw/wrAs9RLVFNgJAFACAMbcMcs43T1blnoHbX+iulqttNb1XdgJAFACAJQAgDGXqDLy4wj7mSA/xqhWq8pcs9nUWtd3YScAQAkAGHmJms1mRR6Px47rttutMg6FQtpq+h/YCQBQAgBGbkcy9u1I3qr2+70yl8lkRJ7NZlrrugR2AgCUAAAlAGDkHbPMaDRSxvKZ4PF4lDn5S0vy+bzewi6AnQAAJQBg/CWq/YtIPj4+HNcej0eR7R9CvyfsBAAoAQBKAMD4M8Hr9Spj+TFGKpVy/LlcLqeMB4PBdQu7AHYCAJQAgPHbkZ1isSjy29ub47p+v6+MS6WSyOfzbf8k7AQAKAEASgDgx50J4XBYZPurZ/ZvCZDx+/0if35+Xr2uv8FOAIASADD+RR078id6arWaMvf+/i5yvV5X5uxvCrgl7AQAKAEASgDgx12imgg7AQBKAIASAKAEACgBAEoAgBIAoAQAKAEASgCAEgCgBAAoAQBKAIASAKAEAL4AoSSSLX+TdccAAAAASUVORK5CYII=\" y=\"-169.779567\"/>\n   </g>\n   <g id=\"text_6\">\n    <!-- 1 -->\n    <g transform=\"translate(51.485948 164.57267)scale(0.12 -0.12)\">\n     <use xlink:href=\"#DejaVuSans-49\"/>\n    </g>\n   </g>\n  </g>\n  <g id=\"axes_7\">\n   <g clip-path=\"url(#p09f6da6915)\">\n    <image height=\"97\" id=\"imagee86bb5ce90\" transform=\"scale(1 -1)translate(0 -97)\" width=\"97\" x=\"122.648276\" xlink:href=\"data:image/png;base64,\niVBORw0KGgoAAAANSUhEUgAAAGEAAABhCAYAAADGBs+jAAAEBklEQVR4nO2dTyhtURjF9+WllJJQMrqZSikTA/kzQRkiA4mkSBkgE2WCmTkT5G/yp0hJGSiMicyESBIGSFEMvNH72t/p3fvuPfeeYx1v/UZrty7n0+o7+xx7b0LGmC9DvpWU7y6AMAQIGAIADAEAhgAAQwCAIQDAEABgCAD8+u4C3FBWViZ6eHhYefv7+6InJiaU9/T0JPrj48Oj6uKHnQAAQwCAIQAQMgH8Lerx8bHooqIi5YVCIdFfX/pHm5qaEj0yMqK8m5ubJFYYH+wEABgCAIF8RI3G5OSk6L29PeX19vaKHh0dVV5ra6u3hUWBnQAAQwCAIQDw4+aE1NRU0YuLi8rb3NwUnZWV5VtN/4KdAABDACCQb8xdXV2ix8fHlffw8CA6Ly/Pt5oSgZ0AAEMAgCEAEMg5webu7k6NMzIyRFdUVCjv6OjIl5rihZ0AAEMAIPC3o+npaTVua2sTvbS0pLzm5mY/SoobdgIADAEAhgBA4OeExsZGNV5eXhb9+vqqvKqqKtFIj6vsBAAYAgCBX9RZXV1V47q6OtEtLS3Ky87O9qWmeGEnAMAQAGAIAAT+EdVJQUGB6PPzc+XZe1hramqU9/j46Gld0WAnAMAQAPD8duTc31NcXCy6trZWeQMDA6LtBXtjjJmdnY3pevPz86JPTk4ifm5hYUGNuRf1P4chAMAQAPBkTigpKRG9sbGhvPz8/MjFRDnqFCuxfo/Ly0s1tueni4sLV9d2CzsBAIYAgCe3o7m5OdHRFtft0/fGGPP8/CzaeRo/Vuy9RpWVlcorLS2N+HVra2uim5qaXF3bLewEABgCAL4v6mxtbYmur69X3ufnZ8Lff2dnR3R6erryBgcHRXd3dyuvoaEh4Wu7hZ0AAEMAgCEA4MmcYL+1pqTonO035rS0NOUlY06weX9/V+OhoSHRt7e3yrOPXTn3t7a3tye1LifsBAAYAgCe3I76+/tFv729Ka+jo0O0cwvjzMyMF+X8lYODAzW+v78XbW+vN8aY3d1d0c7FoGTATgCAIQDAEADwfKG/urpajbe3tyN+1j6B7/c+oMLCQtGnp6fKW19fF+2cL5zb793ATgCAIQDg+e0oJydHje2TNM5FF/uttaenx8uyojI2NqbGfX19ojs7O5Vn/809t7ATAGAIADAEAHzfGm/vTT07O1NeZmamaPux0Bh/F9/tOowx5vDwUHRubq7y7D1Wzq34scJOAIAhAOD7Qr/93zzst1RjjFlZWRHt3IoYDodFX11deVLbH15eXtTYvuWUl5cr7/r6OuHrsRMAYAgAMAQAftzpzSDCTgCAIQDAEABgCAAwBAAYAgAMAQCGAABDAIAhAMAQAGAIADAEABgCAAwBAIYAwG8Fgu6awY8UuQAAAABJRU5ErkJggg==\" y=\"-169.779567\"/>\n   </g>\n   <g id=\"text_7\">\n    <!-- 4 -->\n    <g transform=\"translate(166.934224 164.57267)scale(0.12 -0.12)\">\n     <use xlink:href=\"#DejaVuSans-52\"/>\n    </g>\n   </g>\n  </g>\n  <g id=\"axes_8\">\n   <g clip-path=\"url(#p34d5fbb676)\">\n    <image height=\"97\" id=\"imagec4229ae204\" transform=\"scale(1 -1)translate(0 -97)\" width=\"97\" x=\"238.096552\" xlink:href=\"data:image/png;base64,\niVBORw0KGgoAAAANSUhEUgAAAGEAAABhCAYAAADGBs+jAAAD5ElEQVR4nO2dzSt0URzHz/CkIS95XXnZUBRi5w9QdkTJW/kHkGxYUZQmNStbCyvJS5KyUFOzshAllORlYaFQRFmQhWejn/O7uc8z87j3zvdpvp/V9/S9zpz6+p1z5t5zm5Ax5sOQlJKR6gEQhgABQwCAIQDAEABgCAD8SvUA/gfy8/NFHx0dKW90dFT01tbWP/XPSgCAIQDA6SgB1tfXRZeUlCjv8vLyx/2zEgBgCAAwBAC4JnxDZWWlare2topeXl5W3unp6Y8/j5UAAEMAgNPRJ6WlpaJjsZjrdXNzc55/NisBAIYAAEMAgGvCJ4ODg6Krq6uVt7GxIfri4sLzz2YlAMAQAAiZND131NTUpNq7u7uiw+Gw8urq6kSfn597PhZWAgAMAQCGAEBabVEzMr7+58bHx5VnrwPT09PK82MdUOPytXeSEAwBgLTaovb29opeWlpS3s3NjWjn9vXx8dHXcbESAGAIADAEAKC2qPYD9f7+fuU9PT2JnpqaEv3y8uLaX3Z2tmr39PS4XhuPx0X7vQY4YSUAwBAASOl0ZE8/xugznwUFBcr7+PjaSWdmZoqemJhQ172+voqenJxUXkdHh+jr62vlzczMJDpsz2ElAMAQAGAIAAS+JhQVFYleXV1VXl5enmh7DXC2h4eHRdfW1qrrhoaGRHd1dbn2sbOzo7yrq6u/jt0vWAkAMAQAAp+O7G2pcxt6cnIi2r7jaYwxDQ0Nojs7O0V3d3er6/b29kQXFhYqz/4mPD8/n8ywfYWVAABDAIAhABD4mtDX1+fq7e/viz47O1Oe3V5bWxPtvPVRXFzs2v/CwoJoL15z8gpWAgAMAYDApyP77cf29nblbW9vJ93fwcGBare1tble29LSIjo3N1d5f3o45DesBAAYAgCBT0dvb2+iQ6GQ8sbGxkRvbm4qzz6maO+wampq1HV2n87+c3JyRGdlZSUxan9hJQDAEABgCAAEfha1qqpK9PHxsfLsbaN9R9UYY+7u7kQ7vyW7cX9/r9rNzc2ib29vE+ojCFgJADAEAALfotrnfRYXF5U3MjIiurGxUXnOZ85uPD8/i45Go8oL+nhjorASAGAIADAEAFL6ulR5eblqHx4einY+nHFbE1ZWVlTbPpOEugY4YSUAwBAAgHp7c2BgQPTs7KzyKioqvv2bsrIy1X54ePB+YD7DSgCAIQDAEACAWhNs7F/vMMaYSCQiur6+XrTzjur7+7u/A/MBVgIADAEA2OkonWAlAMAQAGAIADAEABgCAAwBAIYAAEMAgCEAwBAAYAgAMAQAGAIADAEAhgAAQwCAIQDAEABgCAAwBAB+AybY1WgjEcNsAAAAAElFTkSuQmCC\" y=\"-169.779567\"/>\n   </g>\n   <g id=\"text_8\">\n    <!-- 9 -->\n    <g transform=\"translate(282.3825 164.57267)scale(0.12 -0.12)\">\n     <defs>\n      <path d=\"M 10.984375 1.515625 \nL 10.984375 10.5 \nQ 14.703125 8.734375 18.5 7.8125 \nQ 22.3125 6.890625 25.984375 6.890625 \nQ 35.75 6.890625 40.890625 13.453125 \nQ 46.046875 20.015625 46.78125 33.40625 \nQ 43.953125 29.203125 39.59375 26.953125 \nQ 35.25 24.703125 29.984375 24.703125 \nQ 19.046875 24.703125 12.671875 31.3125 \nQ 6.296875 37.9375 6.296875 49.421875 \nQ 6.296875 60.640625 12.9375 67.421875 \nQ 19.578125 74.21875 30.609375 74.21875 \nQ 43.265625 74.21875 49.921875 64.515625 \nQ 56.59375 54.828125 56.59375 36.375 \nQ 56.59375 19.140625 48.40625 8.859375 \nQ 40.234375 -1.421875 26.421875 -1.421875 \nQ 22.703125 -1.421875 18.890625 -0.6875 \nQ 15.09375 0.046875 10.984375 1.515625 \nz\nM 30.609375 32.421875 \nQ 37.25 32.421875 41.125 36.953125 \nQ 45.015625 41.5 45.015625 49.421875 \nQ 45.015625 57.28125 41.125 61.84375 \nQ 37.25 66.40625 30.609375 66.40625 \nQ 23.96875 66.40625 20.09375 61.84375 \nQ 16.21875 57.28125 16.21875 49.421875 \nQ 16.21875 41.5 20.09375 36.953125 \nQ 23.96875 32.421875 30.609375 32.421875 \nz\n\" id=\"DejaVuSans-57\"/>\n     </defs>\n     <use xlink:href=\"#DejaVuSans-57\"/>\n    </g>\n   </g>\n  </g>\n  <g id=\"axes_9\">\n   <g clip-path=\"url(#p2b5a200578)\">\n    <image height=\"97\" id=\"imageb3b3c6427c\" transform=\"scale(1 -1)translate(0 -97)\" width=\"97\" x=\"353.544828\" xlink:href=\"data:image/png;base64,\niVBORw0KGgoAAAANSUhEUgAAAGEAAABhCAYAAADGBs+jAAAD+ElEQVR4nO2cPSh9YRzHn+u1G4sUi7cii0FksFG3LCQMkhhlkLxMbCwkuxQxKIuJYjCglJckFCUZKBMWAyIv/+3n/E6d+z/cc8/9Hr6f6fv0vec5T33v73nuPS9PyBjzaUhCSUr0AAhDgIAhAMAQAGAIADAEABgCAAwBAIYAAEMAgCEAwBAAYAgApCR6ALHS2dmp2tXV1aJHR0eVd3t768uYvgsrAQCGAEDIBOSmTm5urujZ2VnRVVVV6nM5OTmir66ulLewsCB6ZGTE2wHGACsBAIYAAEMAAHZNCIfDqj03Nye6tbX1R32+v7+LXl1dVV5HR4fox8fHH/X/U1gJADAEAGCno8rKStU+ODhwddzm5qbo2tpa5YVCIcfjpqamRPf29ro6l1ewEgBgCAAwBABgr6LW1dU5em9vb6Ln5+eVNzMzI7q/v1957e3tjn3m5eV9c4TewUoAgCEAkNDpKBKJqHZqaqropqYmx+NSUr6G3dXVpTx7OwiwEgBgCAAwBAA8WROSk5NVu6KiQvTi4qI+oWU+z8/PV15Skn/fic9PfbXm8PDQt3PbYSUAwBAA8OQq6uTkpGoPDg7G2mVcuLu7E721taW8trY2n0fzBSsBAIYAAEMAwJM1wf5z7+Pjw9Vx9s9NT0+L3tvbU15BQYHoy8tL0WdnZ479l5WVqfbu7q7om5sbV2P0A1YCAAwBAE+mI/sj59nZ2aJfXl6UNzExIXp5eVl5x8fHsQ4lkLASAGAIADAEADxZE6wPThljTHd3t2j7vN/S0hLr6X4drAQAGAIAntzU2dnZUW3rdGS9wWOMfr4H6V9rImElAMAQAPDk11FmZqZqDw8Pix4aGlLe/f296NLSUuU9PDzEOpRAwkoAgCEAwBAAiMvrUmlpaaKXlpaU19DQIHpsbEx54+Pjop+enrweFiysBAAYAgBxf3szIyNDtbe3t0WXl5crr7m5WfTKyopjn0VFRaLtm4hY70Xb/5G7vfftN6wEABgCAAwBgLi/LmXfrMP6VmZfX5/yXl9fHfux7m23trbm2L91DVpfX1fe6emp6P39feUdHR2Jfn5+Vl68NxxhJQDAEACA3WDETk1NjeiNjY24nuv8/Fy1oz1qGQ23+zKxEgBgCAAwBAACsyYUFxeL7unpEW1/g9+6d160Tab8wP5WqxOsBAAYAgCBmY7cUl9fL7qxsVF51j3xSkpKXPd5cXEhurCwUHnp6emOx3E6ChAMAQCGAMCvWxOikZWVJdp6B+5/XF9fix4YGFCe9cqsde0wxpiTkxNX/bMSAGAIAPyp6QgVVgIADAEAhgAAQwCAIQDAEABgCAAwBAAYAgAMAQCGAABDAIAhAPAPXhXhaLqTjFMAAAAASUVORK5CYII=\" y=\"-169.779567\"/>\n   </g>\n   <g id=\"text_9\">\n    <!-- 5 -->\n    <g transform=\"translate(397.830776 164.57267)scale(0.12 -0.12)\">\n     <defs>\n      <path d=\"M 10.796875 72.90625 \nL 49.515625 72.90625 \nL 49.515625 64.59375 \nL 19.828125 64.59375 \nL 19.828125 46.734375 \nQ 21.96875 47.46875 24.109375 47.828125 \nQ 26.265625 48.1875 28.421875 48.1875 \nQ 40.625 48.1875 47.75 41.5 \nQ 54.890625 34.8125 54.890625 23.390625 \nQ 54.890625 11.625 47.5625 5.09375 \nQ 40.234375 -1.421875 26.90625 -1.421875 \nQ 22.3125 -1.421875 17.546875 -0.640625 \nQ 12.796875 0.140625 7.71875 1.703125 \nL 7.71875 11.625 \nQ 12.109375 9.234375 16.796875 8.0625 \nQ 21.484375 6.890625 26.703125 6.890625 \nQ 35.15625 6.890625 40.078125 11.328125 \nQ 45.015625 15.765625 45.015625 23.390625 \nQ 45.015625 31 40.078125 35.4375 \nQ 35.15625 39.890625 26.703125 39.890625 \nQ 22.75 39.890625 18.8125 39.015625 \nQ 14.890625 38.140625 10.796875 36.28125 \nz\n\" id=\"DejaVuSans-53\"/>\n     </defs>\n     <use xlink:href=\"#DejaVuSans-53\"/>\n    </g>\n   </g>\n  </g>\n  <g id=\"axes_10\">\n   <g clip-path=\"url(#p81e65f70e6)\">\n    <image height=\"97\" id=\"image36e512aa80\" transform=\"scale(1 -1)translate(0 -97)\" width=\"97\" x=\"468.993103\" xlink:href=\"data:image/png;base64,\niVBORw0KGgoAAAANSUhEUgAAAGEAAABhCAYAAADGBs+jAAAEfklEQVR4nO2cSyh9URTGz/XII0SRgcdIoiRFUkqKiUSRkpgxUN4G6BJCGSgTiphIYSgzZUBhYGBCEikhyTOFvPnPlr1O9+q4zrnn82/9Rt/u4+xVn7XPds8+16Fp2qcm2IqP3QUIEgIEfnZO3tLSwsbDw8OkGxoamDc6OuqVmuxAOgEACQEACQEAh2bjFvXk5ISNY2NjSV9cXDAvLS2N9NnZmaV1eRvpBAAkBABs3aLe3NywcUxMDOmoqCjmNTc3k25vb7e0Lm8jnQCAhACAhACArVvU4uJiNl5YWCD9+em+rLy8PNLLy8vmF+ZlpBMAkBAAsHU5CgkJYePd3V3S6nZVz9bWFumsrCzmPT09mVSd95BOAEBCAEBCAMDWe4Ke0NBQ0ldXV8zz9/d3+TsTExNsXFtba35hFiOdAICEAADUcqTS39/Pxp2dnS5/7uHhgY2LiopIr6ysmF6XFUgnACAhACAhAAB7T8jMzGTjpaUl0upWVs/9/T3pgoIC5q2vr5tUnblIJwAgIQAAuxzpqampIa2eWdV/Equys7PDxhkZGaSfn59NrO53SCcAICEAICEA8GfuCSptbW2kBwYGmOfn5/48W2VlJem5uTnzC/MQ6QQAJAQA/uRypDI9Pc3GVVVVbn/27u6OdGtrK/OmpqZIv7+/m1OcQaQTAJAQAJAQAPD6+wnh4eGkOzo6mJednU36+vqaecfHx6QDAgJIJyYmGp5b/fR1cnKSeenp6aSdTifzbm9vDc/hCdIJAEgIAFiyRQ0KCiI9OzvLvPz8fNLBwcHM8/H5+pv47mi8uoX09fX1uE6Vj48P0vPz88xrbGwkbcWbo9IJAEgIAEgIAFhyTygsLCQ9MzPDvLCwMNJHR0fMU5+YxcXFMS8pKcnlXI+Pj2ycnJzsUmsaP98aHR3t8nquUL9dICcnh3n7+/uGr+MO6QQAJAQALPmP2egWUv8AZmNjg/TIyIhHc6vz6Ze0srIy0vovtYqIiCCtPzygLl1dXV3Mq66uJv36+upBxdIJEEgIAFiyOwoMDCStPg/WNE3r6en5mtzhYN7l5SXpsbEx5g0NDZHWH4c3ivrWZ0VFBfPUt0UXFxcNX1NdqtT6f4J0AgASAgASAgCWbFHVt+r7+vqYp669JSUlzFO/aKq7u5t56gOf7e1t0voHMN+90a8+KNI/zO/t7XV7jfPzc9Lx8fFur+8p0gkASAgA2HruKDU1lY3r6upIl5eXM0/94E/l9PSUjVdXV0kfHh4yT90ub25uMk99M0j/4Obt7Y304OAg88bHx13W9ROkEwCQEACQEACAPYuakpLCxvX19aRLS0tJR0ZGmjKfuu7v7e0xb21tjXRTUxPzXl5efj23dAIAEgIAsMvRdyQkJJDWL0fqf+G5ubnMU88W6beW6ovmBwcHZpRpGOkEACQEACQEAP7kPeF/QzoBAAkBAAkBAAkBAAkBAAkBAAkBAAkBAAkBAAkBAAkBAAkBAAkBAAkBAAkBAAkBAAkBAAkBAAkBAAkBAAkBAAkBAAkBgH/3KBXorlhiXQAAAABJRU5ErkJggg==\" y=\"-169.779567\"/>\n   </g>\n   <g id=\"text_10\">\n    <!-- 9 -->\n    <g transform=\"translate(513.279052 164.57267)scale(0.12 -0.12)\">\n     <use xlink:href=\"#DejaVuSans-57\"/>\n    </g>\n   </g>\n  </g>\n </g>\n <defs>\n  <clipPath id=\"pd375c4f12e\">\n   <rect height=\"96.206897\" width=\"96.206897\" x=\"7.2\" y=\"22.318125\"/>\n  </clipPath>\n  <clipPath id=\"p07cc7d8210\">\n   <rect height=\"96.206897\" width=\"96.206897\" x=\"122.648276\" y=\"22.318125\"/>\n  </clipPath>\n  <clipPath id=\"p4fc30b533c\">\n   <rect height=\"96.206897\" width=\"96.206897\" x=\"238.096552\" y=\"22.318125\"/>\n  </clipPath>\n  <clipPath id=\"pae2802e21e\">\n   <rect height=\"96.206897\" width=\"96.206897\" x=\"353.544828\" y=\"22.318125\"/>\n  </clipPath>\n  <clipPath id=\"pc4312bd446\">\n   <rect height=\"96.206897\" width=\"96.206897\" x=\"468.993103\" y=\"22.318125\"/>\n  </clipPath>\n  <clipPath id=\"p400f814b21\">\n   <rect height=\"96.206897\" width=\"96.206897\" x=\"7.2\" y=\"170.57267\"/>\n  </clipPath>\n  <clipPath id=\"p09f6da6915\">\n   <rect height=\"96.206897\" width=\"96.206897\" x=\"122.648276\" y=\"170.57267\"/>\n  </clipPath>\n  <clipPath id=\"p34d5fbb676\">\n   <rect height=\"96.206897\" width=\"96.206897\" x=\"238.096552\" y=\"170.57267\"/>\n  </clipPath>\n  <clipPath id=\"p2b5a200578\">\n   <rect height=\"96.206897\" width=\"96.206897\" x=\"353.544828\" y=\"170.57267\"/>\n  </clipPath>\n  <clipPath id=\"p81e65f70e6\">\n   <rect height=\"96.206897\" width=\"96.206897\" x=\"468.993103\" y=\"170.57267\"/>\n  </clipPath>\n </defs>\n</svg>\n",
      "image/png": "[encoded data removed]"
     },
     "metadata": {
      "needs_background": "light"
     }
    }
   ],
   "source": [
    "n_images = 10\n",
    "\n",
    "fig = plt.figure(figsize=(10,5))\n",
    "for i in range(n_images):\n",
    "    image = test_set[0][i]\n",
    "    label = test_set[1][i].item()\n",
    "    sp = fig.add_subplot(2, 5, i+1)\n",
    "    sp.set_title(label)\n",
    "    plt.axis('off')\n",
    "    plt.imshow(image, cmap='gray')\n",
    "plt.show()"
   ]
  },
  {
   "cell_type": "code",
   "execution_count": null,
   "metadata": {},
   "outputs": [],
   "source": []
  }
 ]
}