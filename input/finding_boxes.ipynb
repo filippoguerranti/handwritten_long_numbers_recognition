{
 "metadata": {
  "language_info": {
   "codemirror_mode": {
    "name": "ipython",
    "version": 3
   },
   "file_extension": ".py",
   "mimetype": "text/x-python",
   "name": "python",
   "nbconvert_exporter": "python",
   "pygments_lexer": "ipython3",
   "version": "3.8.5-final"
  },
  "orig_nbformat": 2,
  "kernelspec": {
   "name": "python38564bit34d77d8397b04cd292265008b72a8948",
   "display_name": "Python 3.8.5 64-bit",
   "language": "python"
  }
 },
 "nbformat": 4,
 "nbformat_minor": 2,
 "cells": [
  {
   "source": [
    "# Finding boxes around the segmented image\n",
    "\n",
    "The goal is to find the boundaries of each region of the segmented image and to draw a rectangular box around each region (in the ideal case we have the background and the digits)."
   ],
   "cell_type": "markdown",
   "metadata": {}
  },
  {
   "cell_type": "code",
   "execution_count": 1,
   "metadata": {},
   "outputs": [],
   "source": [
    "import Segmentation as seg\n",
    "from PIL import Image, ImageDraw, ImageColor"
   ]
  },
  {
   "cell_type": "code",
   "execution_count": 2,
   "metadata": {},
   "outputs": [],
   "source": [
    "image_path = \"../img/input/img-2020129-13428.png\"\n",
    "original_img = Image.open(image_path)"
   ]
  },
  {
   "cell_type": "code",
   "execution_count": 5,
   "metadata": {},
   "outputs": [
    {
     "output_type": "stream",
     "name": "stdout",
     "text": [
      "Building graph...\n",
      "Graph built in 0.881s.\n",
      "\n",
      "Segmenting...\n",
      "Segmentation done in 1.35s.\n",
      "\n",
      "Removing componentes having size less than 100...\n",
      "Removed components in 0.427s.\n",
      "\n",
      "Defining regions...\n",
      "Regions defined in 0.0722s.\n",
      "\n",
      "Generating image...\n",
      "Image generated in 0.165s.\n",
      "\n"
     ]
    }
   ],
   "source": [
    "segmentation = seg.GraphBasedSegmentation(image_path)\n",
    "segmentation.segment(k=4500, min_size=100, preprocessing=True, contrast=1.5, gaussian_blur=2.3)\n",
    "segmentation.define_regions()\n",
    "segmentation.generate_image()"
   ]
  },
  {
   "cell_type": "code",
   "execution_count": 6,
   "metadata": {},
   "outputs": [],
   "source": [
    "segmented_img = segmentation.segmented_img\n",
    "segmented_arr = segmentation.segmented_arr\n",
    "components = segmentation.components\n",
    "height, width = segmented_arr.shape"
   ]
  },
  {
   "cell_type": "code",
   "execution_count": 7,
   "metadata": {},
   "outputs": [],
   "source": [
    "boundaries = {}\n",
    "\n",
    "for i in range(components.num_components()):\n",
    "    boundaries[i] = {\n",
    "                    \"min_row\": height - 1,\n",
    "                    \"max_row\": 0,\n",
    "                    \"min_col\": width - 1,\n",
    "                    \"max_col\": 0\n",
    "                    }"
   ]
  },
  {
   "cell_type": "code",
   "execution_count": 8,
   "metadata": {},
   "outputs": [],
   "source": [
    "for row in range(height):\n",
    "    for col in range(width):\n",
    "        min_row = boundaries[segmented_arr[row, col]]['min_row']\n",
    "        max_row = boundaries[segmented_arr[row, col]]['max_row']\n",
    "        min_col = boundaries[segmented_arr[row, col]]['min_col']\n",
    "        max_col = boundaries[segmented_arr[row, col]]['max_col']\n",
    "        if (row < min_row):\n",
    "            boundaries[segmented_arr[row, col]]['min_row'] = row\n",
    "        if (row > max_row):\n",
    "            boundaries[segmented_arr[row, col]]['max_row'] = row\n",
    "        if (col < min_col):\n",
    "            boundaries[segmented_arr[row, col]]['min_col'] = col\n",
    "        if (col > max_col):\n",
    "            boundaries[segmented_arr[row, col]]['max_col'] = col\n"
   ]
  },
  {
   "cell_type": "code",
   "execution_count": 9,
   "metadata": {},
   "outputs": [],
   "source": [
    "def find_boundaries(num_regions, segmented_arr):\n",
    "\n",
    "    boundaries = {}\n",
    "    height, width = segmented_arr.shape\n",
    "\n",
    "    for i in range(num_regions):\n",
    "        boundaries[i] = {\n",
    "                        \"min_row\": height - 1,\n",
    "                        \"max_row\": 0,\n",
    "                        \"min_col\": width - 1,\n",
    "                        \"max_col\": 0\n",
    "                        }\n",
    "\n",
    "    for row in range(height):\n",
    "        for col in range(width):\n",
    "            min_row = boundaries[segmented_arr[row, col]]['min_row']\n",
    "            max_row = boundaries[segmented_arr[row, col]]['max_row']\n",
    "            min_col = boundaries[segmented_arr[row, col]]['min_col']\n",
    "            max_col = boundaries[segmented_arr[row, col]]['max_col']\n",
    "            if (row < min_row):\n",
    "                boundaries[segmented_arr[row, col]]['min_row'] = row\n",
    "            if (row > max_row):\n",
    "                boundaries[segmented_arr[row, col]]['max_row'] = row\n",
    "            if (col < min_col):\n",
    "                boundaries[segmented_arr[row, col]]['min_col'] = col\n",
    "            if (col > max_col):\n",
    "                boundaries[segmented_arr[row, col]]['max_col'] = col\n",
    "    \n",
    "    return boundaries\n"
   ]
  },
  {
   "cell_type": "code",
   "execution_count": 10,
   "metadata": {},
   "outputs": [],
   "source": [
    "boundaries = find_boundaries(components.num_components(), segmented_arr)"
   ]
  },
  {
   "cell_type": "code",
   "execution_count": 11,
   "metadata": {},
   "outputs": [],
   "source": [
    "copy = segmented_img.copy()\n",
    "draw = ImageDraw.Draw(copy)\n",
    "\n",
    "for region, points in boundaries.items():\n",
    "    A = (points['min_col'], points['min_row'])\n",
    "    B = (points['max_col'], points['min_row'])\n",
    "    C = (points['max_col'], points['max_row'])\n",
    "    D = (points['min_col'], points['max_row'])\n",
    "    draw.line([A,B,C,D,A], fill='lightgreen', width=3)\n",
    "\n",
    "    "
   ]
  },
  {
   "cell_type": "code",
   "execution_count": 12,
   "metadata": {},
   "outputs": [
    {
     "output_type": "execute_result",
     "data": {
      "text/plain": [
       "<PIL.Image.Image image mode=RGB size=300x225 at 0x7EFD481C0370>"
      ],
      "image/png": "[encoded data removed]"
     },
     "metadata": {},
     "execution_count": 12
    }
   ],
   "source": [
    "copy"
   ]
  },
  {
   "cell_type": "code",
   "execution_count": null,
   "metadata": {},
   "outputs": [],
   "source": [
    "def draw_boxes(input_img):\n",
    "    copy = input_img.copy()\n",
    "    draw = ImageDraw.Draw(copy)\n",
    "\n",
    "    for region, points in boundaries.items():\n",
    "        A = (points['min_col'], points['min_row'])\n",
    "        B = (points['max_col'], points['min_row'])\n",
    "        C = (points['max_col'], points['max_row'])\n",
    "        D = (points['min_col'], points['max_row'])\n",
    "        draw.line([A,B,C,D,A], fill='lightgreen', width=3)\n",
    "    \n",
    "    return copy"
   ]
  }
 ]
}