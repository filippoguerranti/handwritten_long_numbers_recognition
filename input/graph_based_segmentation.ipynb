{
 "metadata": {
  "language_info": {
   "codemirror_mode": {
    "name": "ipython",
    "version": 3
   },
   "file_extension": ".py",
   "mimetype": "text/x-python",
   "name": "python",
   "nbconvert_exporter": "python",
   "pygments_lexer": "ipython3",
   "version": "3.8.5-final"
  },
  "orig_nbformat": 2,
  "kernelspec": {
   "name": "python38564bite08c0b10238845f5b3a369da6da33380",
   "display_name": "Python 3.8.5 64-bit",
   "language": "python"
  }
 },
 "nbformat": 4,
 "nbformat_minor": 2,
 "cells": [
  {
   "source": [
    "# Graph-based image segmentation\n",
    "---\n",
    "\n",
    "This notebook presents a usage example of the classes:\n",
    "* `segmentation.GraphBasedSegmentation()`: implements the graph-based segmentation algorithm proposed by Felzenszwalb et. al. ([paper](http://people.cs.uchicago.edu/~pff/papers/seg-ijcv.pdf)).\n",
    "* `segmentation.DisjointSetForest()`: the data-structure used by the algorithm (not really used outside the other class)."
   ],
   "cell_type": "markdown",
   "metadata": {}
  },
  {
   "source": [
    "## Description of the algorithm\n",
    "\n",
    "Let's consider a grayscale image of size `NxM`, being N the height of the image and M its width. Each pixel of the image has a value between 0 and 255.\n",
    "\n",
    "The algorithm treats each pixel as a node of a graph `G = (V,E)` where:\n",
    "- `V` is the set of vertices\n",
    "- `E` the set of edges (i.e. connections between a pair of nodes).\n",
    "\n",
    "Each edge has an associated weight which - in the case of this implementation - is the *intensity distance* between the considered pair of nodes.\n",
    "\n",
    "The pixels are connected in a 8-grid fashion: this means that each pixel is connected to its 8 neighbors.\n",
    "\n",
    "We start by considering each node of the graph as a singleton component (at the beginning we have `height * width` components) and we merge them is an agglomerative way according to the so called *boundary evidence*.\n",
    "\n",
    "That is: at each step of the algorithm, two components are compared and, if a boundary evidence is present, they are keep separated, otherwise they are merged into one single components. Doing so, we can reduce the number of components step-by-step reaching a final result in which each component represents a logic instance in the image.\n",
    "\n",
    "The boundary evidence is defined as the inequality between two quantities:\n",
    "- `Dif(C1, C2)`: represents the within-difference between the two components `C1` and `C2`\n",
    "- `MInt(C1, C2)`: represents the inter-component difference\n",
    "\n",
    "For more details see the [paper](http://people.cs.uchicago.edu/~pff/papers/seg-ijcv.pdf).\n",
    "\n",
    "For our purpose it is important to notice that the threshold depends on a parameter `k` which can be considered as a *tuning* parameter:\n",
    "- larger `k`: preference for larger components\n",
    "- smaller `k`: preference for smaller components"
   ],
   "cell_type": "markdown",
   "metadata": {}
  },
  {
   "source": [
    "### Disjoint-set forest\n",
    "\n",
    "The components are well represented using the *disjoint-set forest* data structure:\n",
    "- it stores a collection of disjoint non-overlapping sets (or a partition of a set into disjoint subsets).\n",
    "- provides operations for:\n",
    "    - adding new sets\n",
    "    - merging sets (replacing them by their union) \n",
    "    - find a representative member of a set. \n",
    "\n",
    "\n",
    "It works as follows:\n",
    "- the set is initialized with `N * M` nodes, each of one is initially considered as a single components (or subset)\n",
    "- each component has a representative/parent which is the one having greater rank\n",
    "- when two components are merged into a single one, the one having greater rank is considered the parent of the other\n",
    "- the size of a component indicats the number of nodes inside it\n"
   ],
   "cell_type": "markdown",
   "metadata": {}
  },
  {
   "source": [
    "### Graph\n",
    "\n",
    "The implementation of the `GraphBasedSegmentation` class is useful to convert an input image into a graph which can be exploited to run the graph-based segmentation algorithm.\n",
    "\n",
    "The class provides the following methods:\n",
    "- `_preprocessing()`: converts an input RGB image to a grayscale Numpy array and apply some preprocessing operations.\n",
    "- `_get_diff(pixel1, pixel2)`: returns the difference in terms of intensity between the given pixels.\n",
    "- `_create_edge(pixel1, pixel2)`: creates the edge between two pixels of the input image.\n",
    "- `_threshold(k, size)`: defines the threshold for a component havig size = size with the constant k (`t = k/size`).\n",
    "- `build_graph()`: builds the graph (list of tuples) from the input image, adding the necessary edges.\n",
    "- `sort()`: sorts the graph according to the weights of the edges (non-decreasing order).\n",
    "- `segment(k, min_size)`: segments the image applying the algorithm and removes the component with `size < min_size`.\n",
    "- `generate_image()`: generates the segmented image.\n",
    "- `find_boundaries()`: found the boundaries of the regions of the segmented image.\n",
    "- `draw_boxes()`: draw rectangular boxes around each region."
   ],
   "cell_type": "markdown",
   "metadata": {}
  },
  {
   "cell_type": "code",
   "execution_count": 1,
   "metadata": {},
   "outputs": [],
   "source": [
    "import segmentation as seg"
   ]
  },
  {
   "source": [
    "We can import the module in which the classes are implemented and use them in the following way:\n",
    "* we create an instance of the class passing it the input image, call it `ig` (_in the example below we have an array of instances_)\n",
    "* we segment the image adjusting the `k` and `min_size` parameters along with some preprocessing operation\n",
    "* after the segmentation we can generate the output image (having different colors for each segmented region)\n",
    "* we can also draw boxes around the found regions"
   ],
   "cell_type": "markdown",
   "metadata": {}
  },
  {
   "cell_type": "code",
   "execution_count": 2,
   "metadata": {},
   "outputs": [
    {
     "output_type": "stream",
     "name": "stdout",
     "text": [
      "\nImage 0\n\n"
     ]
    },
    {
     "output_type": "error",
     "ename": "NameError",
     "evalue": "name 'GraphBasedSegmentation' is not defined",
     "traceback": [
      "\u001b[0;31m---------------------------------------------------------------------------\u001b[0m",
      "\u001b[0;31mNameError\u001b[0m                                 Traceback (most recent call last)",
      "\u001b[0;32m<ipython-input-2-58ec29bfadbc>\u001b[0m in \u001b[0;36m<module>\u001b[0;34m\u001b[0m\n\u001b[1;32m     12\u001b[0m \u001b[0;32mfor\u001b[0m \u001b[0mi\u001b[0m \u001b[0;32min\u001b[0m \u001b[0mrange\u001b[0m\u001b[0;34m(\u001b[0m\u001b[0mlen\u001b[0m\u001b[0;34m(\u001b[0m\u001b[0mimages\u001b[0m\u001b[0;34m)\u001b[0m\u001b[0;34m)\u001b[0m\u001b[0;34m:\u001b[0m\u001b[0;34m\u001b[0m\u001b[0;34m\u001b[0m\u001b[0m\n\u001b[1;32m     13\u001b[0m     \u001b[0mprint\u001b[0m\u001b[0;34m(\u001b[0m\u001b[0;34m\"\\nImage {}\\n\"\u001b[0m\u001b[0;34m.\u001b[0m\u001b[0mformat\u001b[0m\u001b[0;34m(\u001b[0m\u001b[0mi\u001b[0m\u001b[0;34m)\u001b[0m\u001b[0;34m)\u001b[0m\u001b[0;34m\u001b[0m\u001b[0;34m\u001b[0m\u001b[0m\n\u001b[0;32m---> 14\u001b[0;31m     \u001b[0migs\u001b[0m\u001b[0;34m[\u001b[0m\u001b[0mi\u001b[0m\u001b[0;34m]\u001b[0m \u001b[0;34m=\u001b[0m \u001b[0mGraphBasedSegmentation\u001b[0m\u001b[0;34m(\u001b[0m\u001b[0mimages\u001b[0m\u001b[0;34m[\u001b[0m\u001b[0mi\u001b[0m\u001b[0;34m]\u001b[0m\u001b[0;34m)\u001b[0m\u001b[0;34m\u001b[0m\u001b[0;34m\u001b[0m\u001b[0m\n\u001b[0m\u001b[1;32m     15\u001b[0m     \u001b[0migs\u001b[0m\u001b[0;34m[\u001b[0m\u001b[0mi\u001b[0m\u001b[0;34m]\u001b[0m\u001b[0;34m.\u001b[0m\u001b[0msegment\u001b[0m\u001b[0;34m(\u001b[0m\u001b[0mk\u001b[0m\u001b[0;34m=\u001b[0m\u001b[0;36m4000\u001b[0m\u001b[0;34m,\u001b[0m \u001b[0mmin_size\u001b[0m\u001b[0;34m=\u001b[0m\u001b[0;36m100\u001b[0m\u001b[0;34m,\u001b[0m \u001b[0mpreprocessing\u001b[0m\u001b[0;34m=\u001b[0m\u001b[0;32mTrue\u001b[0m\u001b[0;34m,\u001b[0m \u001b[0mcontrast\u001b[0m\u001b[0;34m=\u001b[0m\u001b[0;36m1.5\u001b[0m\u001b[0;34m,\u001b[0m \u001b[0mgaussian_blur\u001b[0m\u001b[0;34m=\u001b[0m\u001b[0;36m2.3\u001b[0m\u001b[0;34m)\u001b[0m\u001b[0;34m\u001b[0m\u001b[0;34m\u001b[0m\u001b[0m\n\u001b[1;32m     16\u001b[0m     \u001b[0migs\u001b[0m\u001b[0;34m[\u001b[0m\u001b[0mi\u001b[0m\u001b[0;34m]\u001b[0m\u001b[0;34m.\u001b[0m\u001b[0mgenerate_image\u001b[0m\u001b[0;34m(\u001b[0m\u001b[0;34m)\u001b[0m\u001b[0;34m\u001b[0m\u001b[0;34m\u001b[0m\u001b[0m\n",
      "\u001b[0;31mNameError\u001b[0m: name 'GraphBasedSegmentation' is not defined"
     ]
    }
   ],
   "source": [
    "import os\n",
    "\n",
    "directory = '../img/input/'\n",
    "images = []\n",
    "for filename in os.listdir(directory):\n",
    "    if filename.endswith(\".jpg\") or filename.endswith(\".png\"):\n",
    "        images.append(os.path.join(directory, filename))\n",
    "    else:\n",
    "        continue\n",
    "\n",
    "igs = [None] * len(images)\n",
    "for i in range(len(images)):\n",
    "    print(\"\\nImage {}\\n\".format(i))\n",
    "    igs[i] = seg.GraphBasedSegmentation(images[i])\n",
    "    igs[i].segment(k=4000, min_size=100, preprocessing=True, contrast=1.5, gaussian_blur=2.3)\n",
    "    igs[i].generate_image()\n",
    "    igs[i].draw_boxes()"
   ]
  },
  {
   "cell_type": "code",
   "execution_count": null,
   "metadata": {},
   "outputs": [],
   "source": [
    "import matplotlib.pyplot as plt\n",
    "\n",
    "n_images = len(images)\n",
    "\n",
    "fig = plt.figure(figsize=(30,15))\n",
    "for i in range(n_images):\n",
    "    # original\n",
    "    image = igs[i].img\n",
    "    label = i + 1\n",
    "    sp = fig.add_subplot(3, 6, i+1)\n",
    "    sp.set_title(label)\n",
    "    plt.axis('off')\n",
    "    plt.imshow(image)\n",
    "    # segmented\n",
    "    image = igs[i].segmented_img\n",
    "    label = i + 1\n",
    "    sp = fig.add_subplot(3, 6, i+6+1)\n",
    "    sp.set_title(label)\n",
    "    plt.axis('off')\n",
    "    plt.imshow(image)\n",
    "    # boxed\n",
    "    image = igs[i].boxed_img\n",
    "    label = i + 1\n",
    "    sp = fig.add_subplot(3, 6, i+12+1)\n",
    "    sp.set_title(label)\n",
    "    plt.axis('off')\n",
    "    plt.imshow(image)\n",
    "plt.show()"
   ]
  }
 ]
}